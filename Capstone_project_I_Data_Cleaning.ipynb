{
 "cells": [
  {
   "cell_type": "code",
   "execution_count": 4,
   "metadata": {
    "collapsed": false,
    "scrolled": false
   },
   "outputs": [
    {
     "name": "stdout",
     "output_type": "stream",
     "text": [
      "                                                     Notes State  State Code  \\\n",
      "1048375  data set. Death rates may differ slightly from...   NaN         NaN   \n",
      "1048376  6. For the 2005 year, the Census Bureau estima...   NaN         NaN   \n",
      "1048377  Texas due to Hurricanes Katrina and Rita. CDC ...   NaN         NaN   \n",
      "1048378  these states, nor are these counts included in...   NaN         NaN   \n",
      "1048379  population. However, the USCS web site does in...   NaN         NaN   \n",
      "\n",
      "        Cancer Sites Cancer Sites Code  Year  Year Code Age Group  \\\n",
      "1048375          NaN               NaN   NaN        NaN       NaN   \n",
      "1048376          NaN               NaN   NaN        NaN       NaN   \n",
      "1048377          NaN               NaN   NaN        NaN       NaN   \n",
      "1048378          NaN               NaN   NaN        NaN       NaN   \n",
      "1048379          NaN               NaN   NaN        NaN       NaN   \n",
      "\n",
      "        Age Group Code Race Race Code Deaths Population Crude Rate  \n",
      "1048375            NaN  NaN       NaN    NaN        NaN        NaN  \n",
      "1048376            NaN  NaN       NaN    NaN        NaN        NaN  \n",
      "1048377            NaN  NaN       NaN    NaN        NaN        NaN  \n",
      "1048378            NaN  NaN       NaN    NaN        NaN        NaN  \n",
      "1048379            NaN  NaN       NaN    NaN        NaN        NaN  \n",
      "                                                     Notes State  State Code  \\\n",
      "1048375  data set. Death rates may differ slightly from...   NaN         NaN   \n",
      "1048376  6. For the 2005 year, the Census Bureau estima...   NaN         NaN   \n",
      "1048377  Texas due to Hurricanes Katrina and Rita. CDC ...   NaN         NaN   \n",
      "1048378  these states, nor are these counts included in...   NaN         NaN   \n",
      "1048379  population. However, the USCS web site does in...   NaN         NaN   \n",
      "\n",
      "        Cancer Sites Cancer Sites Code  Year  Year Code Age Group  \\\n",
      "1048375          NaN               NaN   NaN        NaN       NaN   \n",
      "1048376          NaN               NaN   NaN        NaN       NaN   \n",
      "1048377          NaN               NaN   NaN        NaN       NaN   \n",
      "1048378          NaN               NaN   NaN        NaN       NaN   \n",
      "1048379          NaN               NaN   NaN        NaN       NaN   \n",
      "\n",
      "        Age Group Code Race Race Code Deaths Population Crude Rate  \n",
      "1048375            NaN  NaN       NaN    NaN        NaN        NaN  \n",
      "1048376            NaN  NaN       NaN    NaN        NaN        NaN  \n",
      "1048377            NaN  NaN       NaN    NaN        NaN        NaN  \n",
      "1048378            NaN  NaN       NaN    NaN        NaN        NaN  \n",
      "1048379            NaN  NaN       NaN    NaN        NaN        NaN  \n"
     ]
    }
   ],
   "source": [
    "import pandas as pd\n",
    "import os\n",
    "\n",
    "#Opening and concatening the files for females and males folders\n",
    "female = pd.DataFrame()\n",
    "indir = '/Users/TarjaniAgrawal/Desktop/Springboard/Capstone I_data/Female data'\n",
    "for root, dirs, filenames in os.walk(indir):\n",
    "    for f in filenames:\n",
    "        x = pd.DataFrame.from_csv(indir + '/' + f, index_col= None, sep='\\t')\n",
    "        female = pd.concat([female, x], ignore_index=True)\n",
    "    print(female.tail())\n",
    "male = pd.DataFrame()\n",
    "indir = '/Users/TarjaniAgrawal/Desktop/Springboard/Capstone I_data/Male data'\n",
    "for root, dirs, filenames in os.walk(indir):\n",
    "    for f in filenames:\n",
    "        x = pd.DataFrame.from_csv(indir + '/' + f, index_col= None, sep='\\t')\n",
    "        male = pd.concat([male, x], ignore_index=True)\n",
    "    print(male.tail())\n"
   ]
  },
  {
   "cell_type": "code",
   "execution_count": 5,
   "metadata": {
    "collapsed": false,
    "scrolled": false
   },
   "outputs": [
    {
     "name": "stdout",
     "output_type": "stream",
     "text": [
      "  Notes    State  State Code             Cancer Sites Cancer Sites Code  \\\n",
      "0   NaN  Alabama         1.0  Oral Cavity and Pharynx       20010-20100   \n",
      "1   NaN  Alabama         1.0  Oral Cavity and Pharynx       20010-20100   \n",
      "2   NaN  Alabama         1.0  Oral Cavity and Pharynx       20010-20100   \n",
      "3   NaN  Alabama         1.0  Oral Cavity and Pharynx       20010-20100   \n",
      "4   NaN  Alabama         1.0  Oral Cavity and Pharynx       20010-20100   \n",
      "\n",
      "     Year  Year Code  Age Group Age Group Code  \\\n",
      "0  1999.0     1999.0   < 1 year              1   \n",
      "1  1999.0     1999.0   < 1 year              1   \n",
      "2  1999.0     1999.0  1-4 years            1-4   \n",
      "3  1999.0     1999.0  1-4 years            1-4   \n",
      "4  1999.0     1999.0  5-9 years            5-9   \n",
      "\n",
      "                               Race Race Code Deaths Population Crude Rate  \\\n",
      "0  American Indian or Alaska Native    1002-5      0        104        0.0   \n",
      "1         Asian or Pacific Islander      A-PI      0        245        0.0   \n",
      "2  American Indian or Alaska Native    1002-5      0        535        0.0   \n",
      "3         Asian or Pacific Islander      A-PI      0       1193        0.0   \n",
      "4  American Indian or Alaska Native    1002-5      0        874        0.0   \n",
      "\n",
      "      Sex  \n",
      "0  Female  \n",
      "1  Female  \n",
      "2  Female  \n",
      "3  Female  \n",
      "4  Female  \n",
      "  Notes    State  State Code             Cancer Sites Cancer Sites Code  \\\n",
      "0   NaN  Alabama         1.0  Oral Cavity and Pharynx       20010-20100   \n",
      "1   NaN  Alabama         1.0  Oral Cavity and Pharynx       20010-20100   \n",
      "2   NaN  Alabama         1.0  Oral Cavity and Pharynx       20010-20100   \n",
      "3   NaN  Alabama         1.0  Oral Cavity and Pharynx       20010-20100   \n",
      "4   NaN  Alabama         1.0  Oral Cavity and Pharynx       20010-20100   \n",
      "\n",
      "     Year  Year Code  Age Group Age Group Code  \\\n",
      "0  1999.0     1999.0   < 1 year              1   \n",
      "1  1999.0     1999.0   < 1 year              1   \n",
      "2  1999.0     1999.0  1-4 years            1-4   \n",
      "3  1999.0     1999.0  1-4 years            1-4   \n",
      "4  1999.0     1999.0  5-9 years            5-9   \n",
      "\n",
      "                               Race Race Code Deaths Population Crude Rate  \\\n",
      "0  American Indian or Alaska Native    1002-5      0        122        0.0   \n",
      "1         Asian or Pacific Islander      A-PI      0        219        0.0   \n",
      "2  American Indian or Alaska Native    1002-5      0        507        0.0   \n",
      "3         Asian or Pacific Islander      A-PI      0       1067        0.0   \n",
      "4  American Indian or Alaska Native    1002-5      0        882        0.0   \n",
      "\n",
      "    Sex  \n",
      "0  Male  \n",
      "1  Male  \n",
      "2  Male  \n",
      "3  Male  \n",
      "4  Male  \n",
      "<class 'pandas.core.frame.DataFrame'>\n",
      "RangeIndex: 1048380 entries, 0 to 1048379\n",
      "Data columns (total 15 columns):\n",
      "Notes                1860 non-null object\n",
      "State                1046520 non-null object\n",
      "State Code           1046520 non-null float64\n",
      "Cancer Sites         1046520 non-null object\n",
      "Cancer Sites Code    1046520 non-null object\n",
      "Year                 1046520 non-null float64\n",
      "Year Code            1046520 non-null float64\n",
      "Age Group            1046520 non-null object\n",
      "Age Group Code       1046520 non-null object\n",
      "Race                 1046520 non-null object\n",
      "Race Code            1046520 non-null object\n",
      "Deaths               1046520 non-null object\n",
      "Population           1046520 non-null object\n",
      "Crude Rate           1046520 non-null object\n",
      "Sex                  1048380 non-null object\n",
      "dtypes: float64(3), object(12)\n",
      "memory usage: 120.0+ MB\n",
      "<class 'pandas.core.frame.DataFrame'>\n",
      "RangeIndex: 1048380 entries, 0 to 1048379\n",
      "Data columns (total 15 columns):\n",
      "Notes                1860 non-null object\n",
      "State                1046520 non-null object\n",
      "State Code           1046520 non-null float64\n",
      "Cancer Sites         1046520 non-null object\n",
      "Cancer Sites Code    1046520 non-null object\n",
      "Year                 1046520 non-null float64\n",
      "Year Code            1046520 non-null float64\n",
      "Age Group            1046520 non-null object\n",
      "Age Group Code       1046520 non-null object\n",
      "Race                 1046520 non-null object\n",
      "Race Code            1046520 non-null object\n",
      "Deaths               1046520 non-null object\n",
      "Population           1046520 non-null object\n",
      "Crude Rate           1046520 non-null object\n",
      "Sex                  1048380 non-null object\n",
      "dtypes: float64(3), object(12)\n",
      "memory usage: 120.0+ MB\n"
     ]
    }
   ],
   "source": [
    "# Adding Sex column to female and male dataframes and Checking it added properly.\n",
    "import numpy as np\n",
    "F = np.array('Female')\n",
    "female['Sex']= F\n",
    "M = np.array('Male')\n",
    "male['Sex']= M\n",
    "print(female.head())\n",
    "print(male.head())\n",
    "female.info()\n",
    "male.info()"
   ]
  },
  {
   "cell_type": "code",
   "execution_count": 6,
   "metadata": {
    "collapsed": false
   },
   "outputs": [
    {
     "name": "stdout",
     "output_type": "stream",
     "text": [
      "<class 'pandas.core.frame.DataFrame'>\n",
      "RangeIndex: 2096760 entries, 0 to 2096759\n",
      "Data columns (total 15 columns):\n",
      "Notes                object\n",
      "State                object\n",
      "State Code           float64\n",
      "Cancer Sites         object\n",
      "Cancer Sites Code    object\n",
      "Year                 float64\n",
      "Year Code            float64\n",
      "Age Group            object\n",
      "Age Group Code       object\n",
      "Race                 object\n",
      "Race Code            object\n",
      "Deaths               object\n",
      "Population           object\n",
      "Crude Rate           object\n",
      "Sex                  object\n",
      "dtypes: float64(3), object(12)\n",
      "memory usage: 240.0+ MB\n"
     ]
    }
   ],
   "source": [
    "#Concatening male and female columns to make full dataframe\n",
    "df = pd.concat([female, male], ignore_index=True)\n",
    "df.info()"
   ]
  },
  {
   "cell_type": "code",
   "execution_count": 7,
   "metadata": {
    "collapsed": false,
    "scrolled": false
   },
   "outputs": [
    {
     "name": "stdout",
     "output_type": "stream",
     "text": [
      "<class 'pandas.core.frame.DataFrame'>\n",
      "RangeIndex: 2096760 entries, 0 to 2096759\n",
      "Data columns (total 9 columns):\n",
      "State           object\n",
      "Cancer Sites    object\n",
      "Year            float64\n",
      "Age Group       object\n",
      "Race            object\n",
      "Deaths          object\n",
      "Population      object\n",
      "Crude Rate      object\n",
      "Sex             object\n",
      "dtypes: float64(1), object(8)\n",
      "memory usage: 144.0+ MB\n"
     ]
    }
   ],
   "source": [
    "#Deleting NOTES column and CODES columns which are redundant.\n",
    "df = df.drop(['Notes', 'State Code', 'Cancer Sites Code', 'Year Code', 'Age Group Code', 'Race Code'], axis=1)\n",
    "df.info()"
   ]
  },
  {
   "cell_type": "code",
   "execution_count": 8,
   "metadata": {
    "collapsed": false
   },
   "outputs": [
    {
     "name": "stdout",
     "output_type": "stream",
     "text": [
      "<class 'pandas.core.frame.DataFrame'>\n",
      "Int64Index: 3720 entries, 34884 to 2096759\n",
      "Data columns (total 9 columns):\n",
      "State           0 non-null object\n",
      "Cancer Sites    0 non-null object\n",
      "Year            0 non-null float64\n",
      "Age Group       0 non-null object\n",
      "Race            0 non-null object\n",
      "Deaths          0 non-null object\n",
      "Population      0 non-null object\n",
      "Crude Rate      0 non-null object\n",
      "Sex             3720 non-null object\n",
      "dtypes: float64(1), object(8)\n",
      "memory usage: 290.6+ KB\n"
     ]
    }
   ],
   "source": [
    "#Checking NaN rows\n",
    "dfnull = df[df.State.isnull()]  \n",
    "dfnull.head()   \n",
    "dfnull.info()"
   ]
  },
  {
   "cell_type": "code",
   "execution_count": 9,
   "metadata": {
    "collapsed": false
   },
   "outputs": [
    {
     "name": "stdout",
     "output_type": "stream",
     "text": [
      "<class 'pandas.core.frame.DataFrame'>\n",
      "Int64Index: 2093040 entries, 0 to 2096697\n",
      "Data columns (total 9 columns):\n",
      "State           object\n",
      "Cancer Sites    object\n",
      "Year            float64\n",
      "Age Group       object\n",
      "Race            object\n",
      "Deaths          object\n",
      "Population      object\n",
      "Crude Rate      object\n",
      "Sex             object\n",
      "dtypes: float64(1), object(8)\n",
      "memory usage: 159.7+ MB\n"
     ]
    }
   ],
   "source": [
    "#Deleting NaN rows\n",
    "df = df[df.State.notnull()]    \n",
    "df.info()"
   ]
  },
  {
   "cell_type": "code",
   "execution_count": 10,
   "metadata": {
    "collapsed": false,
    "scrolled": true
   },
   "outputs": [
    {
     "data": {
      "text/plain": [
       "0                 1562997\n",
       "Suppressed         325534\n",
       "Not Applicable     116280\n",
       "16                   3359\n",
       "17                   2882\n",
       "18                   2879\n",
       "19                   2627\n",
       "20                   2487\n",
       "21                   2285\n",
       "22                   2202\n",
       "23                   2100\n",
       "24                   1908\n",
       "25                   1896\n",
       "26                   1694\n",
       "27                   1692\n",
       "28                   1555\n",
       "29                   1526\n",
       "30                   1477\n",
       "31                   1376\n",
       "32                   1335\n",
       "33                   1334\n",
       "34                   1289\n",
       "35                   1191\n",
       "39                   1084\n",
       "37                   1083\n",
       "38                   1066\n",
       "36                   1046\n",
       "40                   1002\n",
       "41                    938\n",
       "42                    924\n",
       "                   ...   \n",
       "737                     1\n",
       "1187                    1\n",
       "1037                    1\n",
       "1067                    1\n",
       "920                     1\n",
       "1011                    1\n",
       "767                     1\n",
       "963                     1\n",
       "1029                    1\n",
       "1021                    1\n",
       "813                     1\n",
       "974                     1\n",
       "815                     1\n",
       "1218                    1\n",
       "775                     1\n",
       "1075                    1\n",
       "946                     1\n",
       "829                     1\n",
       "706                     1\n",
       "801                     1\n",
       "805                     1\n",
       "720                     1\n",
       "1027                    1\n",
       "727                     1\n",
       "868                     1\n",
       "998                     1\n",
       "1279                    1\n",
       "863                     1\n",
       "1092                    1\n",
       "921                     1\n",
       "Name: Deaths, dtype: int64"
      ]
     },
     "execution_count": 10,
     "metadata": {},
     "output_type": "execute_result"
    }
   ],
   "source": [
    "#Checking what other types of values in Deaths columns\n",
    "df['Deaths'].value_counts()"
   ]
  },
  {
   "cell_type": "code",
   "execution_count": 11,
   "metadata": {
    "collapsed": false,
    "scrolled": true
   },
   "outputs": [
    {
     "data": {
      "text/html": [
       "<div>\n",
       "<table border=\"1\" class=\"dataframe\">\n",
       "  <thead>\n",
       "    <tr style=\"text-align: right;\">\n",
       "      <th></th>\n",
       "      <th>State</th>\n",
       "      <th>Cancer Sites</th>\n",
       "      <th>Year</th>\n",
       "      <th>Age Group</th>\n",
       "      <th>Race</th>\n",
       "      <th>Deaths</th>\n",
       "      <th>Population</th>\n",
       "      <th>Crude Rate</th>\n",
       "      <th>Sex</th>\n",
       "    </tr>\n",
       "  </thead>\n",
       "  <tbody>\n",
       "    <tr>\n",
       "      <th>304</th>\n",
       "      <td>Alabama</td>\n",
       "      <td>Male Genital System</td>\n",
       "      <td>1999.0</td>\n",
       "      <td>&lt; 1 year</td>\n",
       "      <td>American Indian or Alaska Native</td>\n",
       "      <td>Not Applicable</td>\n",
       "      <td>Not Applicable</td>\n",
       "      <td>Not Applicable</td>\n",
       "      <td>Female</td>\n",
       "    </tr>\n",
       "    <tr>\n",
       "      <th>305</th>\n",
       "      <td>Alabama</td>\n",
       "      <td>Male Genital System</td>\n",
       "      <td>1999.0</td>\n",
       "      <td>&lt; 1 year</td>\n",
       "      <td>Asian or Pacific Islander</td>\n",
       "      <td>Not Applicable</td>\n",
       "      <td>Not Applicable</td>\n",
       "      <td>Not Applicable</td>\n",
       "      <td>Female</td>\n",
       "    </tr>\n",
       "    <tr>\n",
       "      <th>306</th>\n",
       "      <td>Alabama</td>\n",
       "      <td>Male Genital System</td>\n",
       "      <td>1999.0</td>\n",
       "      <td>1-4 years</td>\n",
       "      <td>American Indian or Alaska Native</td>\n",
       "      <td>Not Applicable</td>\n",
       "      <td>Not Applicable</td>\n",
       "      <td>Not Applicable</td>\n",
       "      <td>Female</td>\n",
       "    </tr>\n",
       "    <tr>\n",
       "      <th>307</th>\n",
       "      <td>Alabama</td>\n",
       "      <td>Male Genital System</td>\n",
       "      <td>1999.0</td>\n",
       "      <td>1-4 years</td>\n",
       "      <td>Asian or Pacific Islander</td>\n",
       "      <td>Not Applicable</td>\n",
       "      <td>Not Applicable</td>\n",
       "      <td>Not Applicable</td>\n",
       "      <td>Female</td>\n",
       "    </tr>\n",
       "    <tr>\n",
       "      <th>308</th>\n",
       "      <td>Alabama</td>\n",
       "      <td>Male Genital System</td>\n",
       "      <td>1999.0</td>\n",
       "      <td>5-9 years</td>\n",
       "      <td>American Indian or Alaska Native</td>\n",
       "      <td>Not Applicable</td>\n",
       "      <td>Not Applicable</td>\n",
       "      <td>Not Applicable</td>\n",
       "      <td>Female</td>\n",
       "    </tr>\n",
       "  </tbody>\n",
       "</table>\n",
       "</div>"
      ],
      "text/plain": [
       "       State         Cancer Sites    Year  Age Group  \\\n",
       "304  Alabama  Male Genital System  1999.0   < 1 year   \n",
       "305  Alabama  Male Genital System  1999.0   < 1 year   \n",
       "306  Alabama  Male Genital System  1999.0  1-4 years   \n",
       "307  Alabama  Male Genital System  1999.0  1-4 years   \n",
       "308  Alabama  Male Genital System  1999.0  5-9 years   \n",
       "\n",
       "                                 Race          Deaths      Population  \\\n",
       "304  American Indian or Alaska Native  Not Applicable  Not Applicable   \n",
       "305         Asian or Pacific Islander  Not Applicable  Not Applicable   \n",
       "306  American Indian or Alaska Native  Not Applicable  Not Applicable   \n",
       "307         Asian or Pacific Islander  Not Applicable  Not Applicable   \n",
       "308  American Indian or Alaska Native  Not Applicable  Not Applicable   \n",
       "\n",
       "         Crude Rate     Sex  \n",
       "304  Not Applicable  Female  \n",
       "305  Not Applicable  Female  \n",
       "306  Not Applicable  Female  \n",
       "307  Not Applicable  Female  \n",
       "308  Not Applicable  Female  "
      ]
     },
     "execution_count": 11,
     "metadata": {},
     "output_type": "execute_result"
    }
   ],
   "source": [
    "#Checking rows with NOT Applicable\n",
    "dfNA = df[df['Deaths'] == 'Not Applicable']\n",
    "dfNA.head()"
   ]
  },
  {
   "cell_type": "code",
   "execution_count": 15,
   "metadata": {
    "collapsed": false
   },
   "outputs": [],
   "source": [
    "# Dropping rows with Deaths as Not applicable which mainly has rows for cancer site as female sex organ for males and vice versa\n",
    "df = df[df['Deaths'] != 'Not Applicable']\n"
   ]
  },
  {
   "cell_type": "code",
   "execution_count": 1,
   "metadata": {
    "collapsed": false,
    "scrolled": false
   },
   "outputs": [],
   "source": [
    "# Looking at the different types of values in other columns in case they have any Nan\n",
    "#cols = ['State', 'Cancer Sites', 'Year', 'Age Group', 'Race', 'Deaths', 'Population', 'Crude Rate', 'Sex']\n",
    "#for col in cols:\n",
    "    #x = df[col].value_counts()\n",
    "    #print(x)\n"
   ]
  },
  {
   "cell_type": "code",
   "execution_count": 29,
   "metadata": {
    "collapsed": false
   },
   "outputs": [
    {
     "name": "stdout",
     "output_type": "stream",
     "text": [
      "<class 'pandas.core.frame.DataFrame'>\n",
      "Int64Index: 46789 entries, 380 to 2061751\n",
      "Data columns (total 9 columns):\n",
      "State           46789 non-null object\n",
      "Cancer Sites    46789 non-null object\n",
      "Year            46789 non-null float64\n",
      "Age Group       46789 non-null object\n",
      "Race            46789 non-null object\n",
      "Deaths          46789 non-null object\n",
      "Population      46789 non-null object\n",
      "Crude Rate      46789 non-null object\n",
      "Sex             46789 non-null object\n",
      "dtypes: float64(1), object(8)\n",
      "memory usage: 3.6+ MB\n"
     ]
    }
   ],
   "source": [
    "#Checking rows with NOT Applicable either in Crude Rate or Population\n",
    "dfNA1 = df[(df['Crude Rate'] == 'Not Applicable') | (df['Population'] == 'Not Applicable')]\n",
    "dfNA1.head()\n",
    "dfNA1.info()\n"
   ]
  },
  {
   "cell_type": "code",
   "execution_count": 30,
   "metadata": {
    "collapsed": false
   },
   "outputs": [
    {
     "name": "stdout",
     "output_type": "stream",
     "text": [
      "<class 'pandas.core.frame.DataFrame'>\n",
      "Int64Index: 46789 entries, 380 to 2061751\n",
      "Data columns (total 9 columns):\n",
      "State           46789 non-null object\n",
      "Cancer Sites    46789 non-null object\n",
      "Year            46789 non-null float64\n",
      "Age Group       46789 non-null object\n",
      "Race            46789 non-null object\n",
      "Deaths          46789 non-null object\n",
      "Population      46789 non-null object\n",
      "Crude Rate      46789 non-null object\n",
      "Sex             46789 non-null object\n",
      "dtypes: float64(1), object(8)\n",
      "memory usage: 3.6+ MB\n"
     ]
    }
   ],
   "source": [
    "#Checking rows with NOT Applicable with both Crude Rate and Population\n",
    "dfNA2 = df[(df['Crude Rate'] == 'Not Applicable') & (df['Population'] == 'Not Applicable')]\n",
    "dfNA2.head()\n",
    "dfNA2.info()"
   ]
  },
  {
   "cell_type": "code",
   "execution_count": 31,
   "metadata": {
    "collapsed": false
   },
   "outputs": [
    {
     "name": "stdout",
     "output_type": "stream",
     "text": [
      "<class 'pandas.core.frame.DataFrame'>\n",
      "Int64Index: 1929971 entries, 0 to 2096697\n",
      "Data columns (total 9 columns):\n",
      "State           object\n",
      "Cancer Sites    object\n",
      "Year            float64\n",
      "Age Group       object\n",
      "Race            object\n",
      "Deaths          object\n",
      "Population      object\n",
      "Crude Rate      object\n",
      "Sex             object\n",
      "dtypes: float64(1), object(8)\n",
      "memory usage: 147.2+ MB\n"
     ]
    }
   ],
   "source": [
    "# Since the same rows had both Population and Crude rate as NOT APPLICATION. Thus, Dropping the rows with Crude Rate or Population is equal to Not Applicable \n",
    "df = df[(df['Crude Rate'] != 'Not Applicable') | (df['Population'] != 'Not Applicable')]\n",
    "df.info()\n",
    "\n",
    "\n"
   ]
  },
  {
   "cell_type": "code",
   "execution_count": 32,
   "metadata": {
    "collapsed": false
   },
   "outputs": [
    {
     "data": {
      "text/html": [
       "<div>\n",
       "<table border=\"1\" class=\"dataframe\">\n",
       "  <thead>\n",
       "    <tr style=\"text-align: right;\">\n",
       "      <th></th>\n",
       "      <th>State</th>\n",
       "      <th>Cancer Sites</th>\n",
       "      <th>Year</th>\n",
       "      <th>Age Group</th>\n",
       "      <th>Race</th>\n",
       "      <th>Deaths</th>\n",
       "      <th>Population</th>\n",
       "      <th>Crude Rate</th>\n",
       "      <th>Sex</th>\n",
       "    </tr>\n",
       "  </thead>\n",
       "  <tbody>\n",
       "    <tr>\n",
       "      <th>0</th>\n",
       "      <td>Alabama</td>\n",
       "      <td>Oral Cavity and Pharynx</td>\n",
       "      <td>1999.0</td>\n",
       "      <td>&lt; 1 year</td>\n",
       "      <td>American Indian or Alaska Native</td>\n",
       "      <td>0</td>\n",
       "      <td>104</td>\n",
       "      <td>0.0</td>\n",
       "      <td>Female</td>\n",
       "    </tr>\n",
       "    <tr>\n",
       "      <th>1</th>\n",
       "      <td>Alabama</td>\n",
       "      <td>Oral Cavity and Pharynx</td>\n",
       "      <td>1999.0</td>\n",
       "      <td>&lt; 1 year</td>\n",
       "      <td>Asian or Pacific Islander</td>\n",
       "      <td>0</td>\n",
       "      <td>245</td>\n",
       "      <td>0.0</td>\n",
       "      <td>Female</td>\n",
       "    </tr>\n",
       "    <tr>\n",
       "      <th>2</th>\n",
       "      <td>Alabama</td>\n",
       "      <td>Oral Cavity and Pharynx</td>\n",
       "      <td>1999.0</td>\n",
       "      <td>1-4 years</td>\n",
       "      <td>American Indian or Alaska Native</td>\n",
       "      <td>0</td>\n",
       "      <td>535</td>\n",
       "      <td>0.0</td>\n",
       "      <td>Female</td>\n",
       "    </tr>\n",
       "    <tr>\n",
       "      <th>3</th>\n",
       "      <td>Alabama</td>\n",
       "      <td>Oral Cavity and Pharynx</td>\n",
       "      <td>1999.0</td>\n",
       "      <td>1-4 years</td>\n",
       "      <td>Asian or Pacific Islander</td>\n",
       "      <td>0</td>\n",
       "      <td>1193</td>\n",
       "      <td>0.0</td>\n",
       "      <td>Female</td>\n",
       "    </tr>\n",
       "    <tr>\n",
       "      <th>4</th>\n",
       "      <td>Alabama</td>\n",
       "      <td>Oral Cavity and Pharynx</td>\n",
       "      <td>1999.0</td>\n",
       "      <td>5-9 years</td>\n",
       "      <td>American Indian or Alaska Native</td>\n",
       "      <td>0</td>\n",
       "      <td>874</td>\n",
       "      <td>0.0</td>\n",
       "      <td>Female</td>\n",
       "    </tr>\n",
       "  </tbody>\n",
       "</table>\n",
       "</div>"
      ],
      "text/plain": [
       "     State             Cancer Sites    Year  Age Group  \\\n",
       "0  Alabama  Oral Cavity and Pharynx  1999.0   < 1 year   \n",
       "1  Alabama  Oral Cavity and Pharynx  1999.0   < 1 year   \n",
       "2  Alabama  Oral Cavity and Pharynx  1999.0  1-4 years   \n",
       "3  Alabama  Oral Cavity and Pharynx  1999.0  1-4 years   \n",
       "4  Alabama  Oral Cavity and Pharynx  1999.0  5-9 years   \n",
       "\n",
       "                               Race Deaths Population Crude Rate     Sex  \n",
       "0  American Indian or Alaska Native      0        104        0.0  Female  \n",
       "1         Asian or Pacific Islander      0        245        0.0  Female  \n",
       "2  American Indian or Alaska Native      0        535        0.0  Female  \n",
       "3         Asian or Pacific Islander      0       1193        0.0  Female  \n",
       "4  American Indian or Alaska Native      0        874        0.0  Female  "
      ]
     },
     "execution_count": 32,
     "metadata": {},
     "output_type": "execute_result"
    }
   ],
   "source": [
    "# Taking dataframe without Suppressed values for now. \n",
    "df = df[(df['Deaths'] != 'Suppressed') | (df['Crude Rate'] != 'Suppressed')]\n",
    "df.head()"
   ]
  },
  {
   "cell_type": "code",
   "execution_count": 2,
   "metadata": {
    "collapsed": false
   },
   "outputs": [],
   "source": [
    "# Looking at the different types of values in other columns in case they have any Suppressed\n",
    "#cols = ['State', 'Cancer Sites', 'Year', 'Age Group', 'Race', 'Deaths', 'Population', 'Crude Rate', 'Sex']\n",
    "#for col in cols:\n",
    "    #x = df[col].value_counts()\n",
    "    #print(x)"
   ]
  },
  {
   "cell_type": "code",
   "execution_count": 34,
   "metadata": {
    "collapsed": false
   },
   "outputs": [
    {
     "name": "stdout",
     "output_type": "stream",
     "text": [
      "State object\n",
      "Cancer Sites object\n",
      "Year float64\n",
      "Age Group object\n",
      "Race object\n",
      "Deaths object\n",
      "Population object\n",
      "Crude Rate object\n",
      "Sex object\n"
     ]
    }
   ],
   "source": [
    "# Looking at the data types of columns \n",
    "cols = ['State', 'Cancer Sites', 'Year', 'Age Group', 'Race', 'Deaths', 'Population', 'Crude Rate', 'Sex']\n",
    "for col in cols:\n",
    "    x = df[col].dtype\n",
    "    print(col , x)"
   ]
  },
  {
   "cell_type": "code",
   "execution_count": 35,
   "metadata": {
    "collapsed": false
   },
   "outputs": [
    {
     "name": "stdout",
     "output_type": "stream",
     "text": [
      "Deaths int64\n",
      "Population int64\n",
      "Crude Rate float64\n"
     ]
    }
   ],
   "source": [
    "#Converting datatypes of Deaths, Population and Crude Rate\n",
    "col_name = ['Deaths', 'Population', 'Crude Rate']\n",
    "for col in col_name:\n",
    "    df[col] = pd.to_numeric(df[col])\n",
    "    t = df[col].dtype\n",
    "    print(col , t)"
   ]
  },
  {
   "cell_type": "code",
   "execution_count": 36,
   "metadata": {
    "collapsed": false
   },
   "outputs": [
    {
     "data": {
      "text/html": [
       "<div>\n",
       "<table border=\"1\" class=\"dataframe\">\n",
       "  <thead>\n",
       "    <tr style=\"text-align: right;\">\n",
       "      <th></th>\n",
       "      <th>State</th>\n",
       "      <th>Cancer Sites</th>\n",
       "      <th>Year</th>\n",
       "      <th>Age Group</th>\n",
       "      <th>Race</th>\n",
       "      <th>Deaths</th>\n",
       "      <th>Population</th>\n",
       "      <th>Crude Rate</th>\n",
       "      <th>Sex</th>\n",
       "    </tr>\n",
       "  </thead>\n",
       "  <tbody>\n",
       "    <tr>\n",
       "      <th>0</th>\n",
       "      <td>Alabama</td>\n",
       "      <td>Oral Cavity and Pharynx</td>\n",
       "      <td>1999.0</td>\n",
       "      <td>&lt; 1 year</td>\n",
       "      <td>American Indian or Alaska Native</td>\n",
       "      <td>0</td>\n",
       "      <td>104</td>\n",
       "      <td>0.0</td>\n",
       "      <td>Female</td>\n",
       "    </tr>\n",
       "    <tr>\n",
       "      <th>1</th>\n",
       "      <td>Alabama</td>\n",
       "      <td>Oral Cavity and Pharynx</td>\n",
       "      <td>1999.0</td>\n",
       "      <td>&lt; 1 year</td>\n",
       "      <td>Asian or Pacific Islander</td>\n",
       "      <td>0</td>\n",
       "      <td>245</td>\n",
       "      <td>0.0</td>\n",
       "      <td>Female</td>\n",
       "    </tr>\n",
       "    <tr>\n",
       "      <th>2</th>\n",
       "      <td>Alabama</td>\n",
       "      <td>Oral Cavity and Pharynx</td>\n",
       "      <td>1999.0</td>\n",
       "      <td>1-4 years</td>\n",
       "      <td>American Indian or Alaska Native</td>\n",
       "      <td>0</td>\n",
       "      <td>535</td>\n",
       "      <td>0.0</td>\n",
       "      <td>Female</td>\n",
       "    </tr>\n",
       "    <tr>\n",
       "      <th>3</th>\n",
       "      <td>Alabama</td>\n",
       "      <td>Oral Cavity and Pharynx</td>\n",
       "      <td>1999.0</td>\n",
       "      <td>1-4 years</td>\n",
       "      <td>Asian or Pacific Islander</td>\n",
       "      <td>0</td>\n",
       "      <td>1193</td>\n",
       "      <td>0.0</td>\n",
       "      <td>Female</td>\n",
       "    </tr>\n",
       "    <tr>\n",
       "      <th>4</th>\n",
       "      <td>Alabama</td>\n",
       "      <td>Oral Cavity and Pharynx</td>\n",
       "      <td>1999.0</td>\n",
       "      <td>5-9 years</td>\n",
       "      <td>American Indian or Alaska Native</td>\n",
       "      <td>0</td>\n",
       "      <td>874</td>\n",
       "      <td>0.0</td>\n",
       "      <td>Female</td>\n",
       "    </tr>\n",
       "  </tbody>\n",
       "</table>\n",
       "</div>"
      ],
      "text/plain": [
       "     State             Cancer Sites    Year  Age Group  \\\n",
       "0  Alabama  Oral Cavity and Pharynx  1999.0   < 1 year   \n",
       "1  Alabama  Oral Cavity and Pharynx  1999.0   < 1 year   \n",
       "2  Alabama  Oral Cavity and Pharynx  1999.0  1-4 years   \n",
       "3  Alabama  Oral Cavity and Pharynx  1999.0  1-4 years   \n",
       "4  Alabama  Oral Cavity and Pharynx  1999.0  5-9 years   \n",
       "\n",
       "                               Race  Deaths  Population  Crude Rate     Sex  \n",
       "0  American Indian or Alaska Native       0         104         0.0  Female  \n",
       "1         Asian or Pacific Islander       0         245         0.0  Female  \n",
       "2  American Indian or Alaska Native       0         535         0.0  Female  \n",
       "3         Asian or Pacific Islander       0        1193         0.0  Female  \n",
       "4  American Indian or Alaska Native       0         874         0.0  Female  "
      ]
     },
     "execution_count": 36,
     "metadata": {},
     "output_type": "execute_result"
    }
   ],
   "source": [
    "df.head()"
   ]
  },
  {
   "cell_type": "code",
   "execution_count": 37,
   "metadata": {
    "collapsed": false
   },
   "outputs": [
    {
     "name": "stdout",
     "output_type": "stream",
     "text": [
      "<class 'pandas.core.frame.DataFrame'>\n",
      "Int64Index: 1604437 entries, 0 to 2096697\n",
      "Data columns (total 9 columns):\n",
      "State           1604437 non-null object\n",
      "Cancer Sites    1604437 non-null object\n",
      "Year            1604437 non-null float64\n",
      "Age Group       1604437 non-null object\n",
      "Race            1604437 non-null object\n",
      "Deaths          1604437 non-null int64\n",
      "Population      1604437 non-null int64\n",
      "Crude Rate      1604437 non-null float64\n",
      "Sex             1604437 non-null object\n",
      "dtypes: float64(2), int64(2), object(5)\n",
      "memory usage: 122.4+ MB\n"
     ]
    }
   ],
   "source": [
    "df.info()\n",
    "  "
   ]
  },
  {
   "cell_type": "code",
   "execution_count": 38,
   "metadata": {
    "collapsed": false
   },
   "outputs": [
    {
     "data": {
      "text/plain": [
       "State           1604437\n",
       "Cancer Sites    1604437\n",
       "Year            1604437\n",
       "Age Group       1604437\n",
       "Race            1604437\n",
       "Deaths          1604437\n",
       "Population      1604437\n",
       "Crude Rate      1604437\n",
       "Sex             1604437\n",
       "dtype: int64"
      ]
     },
     "execution_count": 38,
     "metadata": {},
     "output_type": "execute_result"
    }
   ],
   "source": [
    "df.count()"
   ]
  },
  {
   "cell_type": "code",
   "execution_count": null,
   "metadata": {
    "collapsed": true
   },
   "outputs": [],
   "source": []
  }
 ],
 "metadata": {
  "kernelspec": {
   "display_name": "Python 3",
   "language": "python",
   "name": "python3"
  },
  "language_info": {
   "codemirror_mode": {
    "name": "ipython",
    "version": 3
   },
   "file_extension": ".py",
   "mimetype": "text/x-python",
   "name": "python",
   "nbconvert_exporter": "python",
   "pygments_lexer": "ipython3",
   "version": "3.6.0"
  }
 },
 "nbformat": 4,
 "nbformat_minor": 2
}
