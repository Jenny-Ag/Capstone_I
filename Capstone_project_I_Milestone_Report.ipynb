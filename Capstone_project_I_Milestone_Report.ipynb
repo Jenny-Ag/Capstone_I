{
 "cells": [
  {
   "cell_type": "code",
   "execution_count": 1,
   "metadata": {
    "collapsed": false
   },
   "outputs": [
    {
     "data": {
      "text/html": [
       "<div>\n",
       "<table border=\"1\" class=\"dataframe\">\n",
       "  <thead>\n",
       "    <tr style=\"text-align: right;\">\n",
       "      <th></th>\n",
       "      <th>State</th>\n",
       "      <th>Cancer Sites</th>\n",
       "      <th>Year</th>\n",
       "      <th>Age Group</th>\n",
       "      <th>Race</th>\n",
       "      <th>Deaths</th>\n",
       "      <th>Population</th>\n",
       "      <th>Crude Rate</th>\n",
       "      <th>Sex</th>\n",
       "    </tr>\n",
       "  </thead>\n",
       "  <tbody>\n",
       "    <tr>\n",
       "      <th>0</th>\n",
       "      <td>Alabama</td>\n",
       "      <td>Oral Cavity and Pharynx</td>\n",
       "      <td>1999.0</td>\n",
       "      <td>&lt; 1 year</td>\n",
       "      <td>American Indian or Alaska Native</td>\n",
       "      <td>0</td>\n",
       "      <td>104</td>\n",
       "      <td>0.0</td>\n",
       "      <td>Female</td>\n",
       "    </tr>\n",
       "    <tr>\n",
       "      <th>1</th>\n",
       "      <td>Alabama</td>\n",
       "      <td>Oral Cavity and Pharynx</td>\n",
       "      <td>1999.0</td>\n",
       "      <td>&lt; 1 year</td>\n",
       "      <td>Asian or Pacific Islander</td>\n",
       "      <td>0</td>\n",
       "      <td>245</td>\n",
       "      <td>0.0</td>\n",
       "      <td>Female</td>\n",
       "    </tr>\n",
       "    <tr>\n",
       "      <th>2</th>\n",
       "      <td>Alabama</td>\n",
       "      <td>Oral Cavity and Pharynx</td>\n",
       "      <td>1999.0</td>\n",
       "      <td>1-4 years</td>\n",
       "      <td>American Indian or Alaska Native</td>\n",
       "      <td>0</td>\n",
       "      <td>535</td>\n",
       "      <td>0.0</td>\n",
       "      <td>Female</td>\n",
       "    </tr>\n",
       "    <tr>\n",
       "      <th>3</th>\n",
       "      <td>Alabama</td>\n",
       "      <td>Oral Cavity and Pharynx</td>\n",
       "      <td>1999.0</td>\n",
       "      <td>1-4 years</td>\n",
       "      <td>Asian or Pacific Islander</td>\n",
       "      <td>0</td>\n",
       "      <td>1193</td>\n",
       "      <td>0.0</td>\n",
       "      <td>Female</td>\n",
       "    </tr>\n",
       "    <tr>\n",
       "      <th>4</th>\n",
       "      <td>Alabama</td>\n",
       "      <td>Oral Cavity and Pharynx</td>\n",
       "      <td>1999.0</td>\n",
       "      <td>5-9 years</td>\n",
       "      <td>American Indian or Alaska Native</td>\n",
       "      <td>0</td>\n",
       "      <td>874</td>\n",
       "      <td>0.0</td>\n",
       "      <td>Female</td>\n",
       "    </tr>\n",
       "  </tbody>\n",
       "</table>\n",
       "</div>"
      ],
      "text/plain": [
       "     State             Cancer Sites    Year  Age Group  \\\n",
       "0  Alabama  Oral Cavity and Pharynx  1999.0   < 1 year   \n",
       "1  Alabama  Oral Cavity and Pharynx  1999.0   < 1 year   \n",
       "2  Alabama  Oral Cavity and Pharynx  1999.0  1-4 years   \n",
       "3  Alabama  Oral Cavity and Pharynx  1999.0  1-4 years   \n",
       "4  Alabama  Oral Cavity and Pharynx  1999.0  5-9 years   \n",
       "\n",
       "                               Race Deaths Population Crude Rate     Sex  \n",
       "0  American Indian or Alaska Native      0        104        0.0  Female  \n",
       "1         Asian or Pacific Islander      0        245        0.0  Female  \n",
       "2  American Indian or Alaska Native      0        535        0.0  Female  \n",
       "3         Asian or Pacific Islander      0       1193        0.0  Female  \n",
       "4  American Indian or Alaska Native      0        874        0.0  Female  "
      ]
     },
     "execution_count": 1,
     "metadata": {},
     "output_type": "execute_result"
    }
   ],
   "source": [
    "#DATA importing and Cleaning\n",
    "import pandas as pd\n",
    "import os\n",
    "\n",
    "#Opening and concatening the files for females and males folders\n",
    "female = pd.DataFrame()\n",
    "indir = '/Users/TarjaniAgrawal/Desktop/Springboard/Capstone I_data/Female data'\n",
    "for root, dirs, filenames in os.walk(indir):\n",
    "    for f in filenames:\n",
    "        x = pd.DataFrame.from_csv(indir + '/' + f, index_col= None, sep='\\t')\n",
    "        female = pd.concat([female, x], ignore_index=True)\n",
    "male = pd.DataFrame()\n",
    "male.tail()\n",
    "indir = '/Users/TarjaniAgrawal/Desktop/Springboard/Capstone I_data/Male data'\n",
    "for root, dirs, filenames in os.walk(indir):\n",
    "    for f in filenames:\n",
    "        x = pd.DataFrame.from_csv(indir + '/' + f, index_col= None, sep='\\t')\n",
    "        male = pd.concat([male, x], ignore_index=True)\n",
    "# Adding Sex column to female and male dataframes\n",
    "import numpy as np\n",
    "F = np.array('Female')\n",
    "female['Sex']= F\n",
    "M = np.array('Male')\n",
    "male['Sex']= M\n",
    "#Concatening male and female columns\n",
    "df = pd.concat([female, male], ignore_index=True)\n",
    "#Deleting NOTES column and CODES columns\n",
    "df = df.drop(['Notes', 'State Code', 'Cancer Sites Code', 'Year Code', 'Age Group Code', 'Race Code'], axis=1)\n",
    "#Deleting NaN rows\n",
    "df = df[df.State.notnull()]  \n",
    "#Checking different types of values in Deaths columns\n",
    "#df['Deaths'].value_counts()\n",
    "# Dropping rows with Deaths as Not applicable which mainly has rows for cancer site as female sex organ for males and vice versa\n",
    "df = df[df['Deaths'] != 'Not Applicable']\n",
    "# Looking at the different types of values in other columns in case they have any Nan\n",
    "#cols = ['State', 'Cancer Sites', 'Year', 'Age Group', 'Race', 'Deaths', 'Population', 'Crude Rate', 'Sex']\n",
    "#for col in cols:\n",
    "    #x = df[col].value_counts()\n",
    "    #print(x)\n",
    "\n",
    "# Dropping the rows with Crude Rate or Population is equal to Not Applicable \n",
    "df = df[(df['Crude Rate'] != 'Not Applicable') | (df['Population'] != 'Not Applicable')]\n",
    "# Taking dataframe without Suppressed values for now. \n",
    "df = df[(df['Deaths'] != 'Suppressed') | (df['Crude Rate'] != 'Suppressed')]\n",
    "df.head()\n"
   ]
  },
  {
   "cell_type": "code",
   "execution_count": 2,
   "metadata": {
    "collapsed": false
   },
   "outputs": [
    {
     "name": "stdout",
     "output_type": "stream",
     "text": [
      "State object\n",
      "Cancer Sites object\n",
      "Year float64\n",
      "Age Group object\n",
      "Race object\n",
      "Deaths object\n",
      "Population object\n",
      "Crude Rate object\n",
      "Sex object\n"
     ]
    }
   ],
   "source": [
    "# Looking at the data types of columns \n",
    "cols = ['State', 'Cancer Sites', 'Year', 'Age Group', 'Race', 'Deaths', 'Population', 'Crude Rate', 'Sex']\n",
    "for col in cols:\n",
    "    x = df[col].dtype\n",
    "    print(col , x)"
   ]
  },
  {
   "cell_type": "code",
   "execution_count": 3,
   "metadata": {
    "collapsed": false
   },
   "outputs": [
    {
     "name": "stdout",
     "output_type": "stream",
     "text": [
      "Deaths int64\n",
      "Population int64\n",
      "Crude Rate float64\n"
     ]
    }
   ],
   "source": [
    "#Converting datatypes of Deaths, Population and Crude Rate\n",
    "col_name = ['Deaths', 'Population', 'Crude Rate']\n",
    "for col in col_name:\n",
    "    df[col] = pd.to_numeric(df[col])\n",
    "    t = df[col].dtype\n",
    "    print(col , t)"
   ]
  },
  {
   "cell_type": "code",
   "execution_count": 4,
   "metadata": {
    "collapsed": false
   },
   "outputs": [
    {
     "name": "stdout",
     "output_type": "stream",
     "text": [
      "Year object\n"
     ]
    }
   ],
   "source": [
    "#Converting datatypes of year as object\n",
    "col_name = ['Year']\n",
    "for col in col_name:\n",
    "    df[col] = df[col].apply(str)\n",
    "    t = df[col].dtype\n",
    "    print(col , t)"
   ]
  },
  {
   "cell_type": "code",
   "execution_count": 5,
   "metadata": {
    "collapsed": false
   },
   "outputs": [
    {
     "data": {
      "text/html": [
       "<div>\n",
       "<table border=\"1\" class=\"dataframe\">\n",
       "  <thead>\n",
       "    <tr style=\"text-align: right;\">\n",
       "      <th></th>\n",
       "      <th>State</th>\n",
       "      <th>Cancer Sites</th>\n",
       "      <th>Year</th>\n",
       "      <th>Age Group</th>\n",
       "      <th>Race</th>\n",
       "      <th>Deaths</th>\n",
       "      <th>Population</th>\n",
       "      <th>Crude Rate</th>\n",
       "      <th>Sex</th>\n",
       "    </tr>\n",
       "  </thead>\n",
       "  <tbody>\n",
       "    <tr>\n",
       "      <th>0</th>\n",
       "      <td>Alabama</td>\n",
       "      <td>Oral Cavity and Pharynx</td>\n",
       "      <td>1999.0</td>\n",
       "      <td>&lt; 1 year</td>\n",
       "      <td>American Indian or Alaska Native</td>\n",
       "      <td>0</td>\n",
       "      <td>104</td>\n",
       "      <td>0.0</td>\n",
       "      <td>Female</td>\n",
       "    </tr>\n",
       "    <tr>\n",
       "      <th>1</th>\n",
       "      <td>Alabama</td>\n",
       "      <td>Oral Cavity and Pharynx</td>\n",
       "      <td>1999.0</td>\n",
       "      <td>&lt; 1 year</td>\n",
       "      <td>Asian or Pacific Islander</td>\n",
       "      <td>0</td>\n",
       "      <td>245</td>\n",
       "      <td>0.0</td>\n",
       "      <td>Female</td>\n",
       "    </tr>\n",
       "    <tr>\n",
       "      <th>2</th>\n",
       "      <td>Alabama</td>\n",
       "      <td>Oral Cavity and Pharynx</td>\n",
       "      <td>1999.0</td>\n",
       "      <td>1-4 years</td>\n",
       "      <td>American Indian or Alaska Native</td>\n",
       "      <td>0</td>\n",
       "      <td>535</td>\n",
       "      <td>0.0</td>\n",
       "      <td>Female</td>\n",
       "    </tr>\n",
       "    <tr>\n",
       "      <th>3</th>\n",
       "      <td>Alabama</td>\n",
       "      <td>Oral Cavity and Pharynx</td>\n",
       "      <td>1999.0</td>\n",
       "      <td>1-4 years</td>\n",
       "      <td>Asian or Pacific Islander</td>\n",
       "      <td>0</td>\n",
       "      <td>1193</td>\n",
       "      <td>0.0</td>\n",
       "      <td>Female</td>\n",
       "    </tr>\n",
       "    <tr>\n",
       "      <th>4</th>\n",
       "      <td>Alabama</td>\n",
       "      <td>Oral Cavity and Pharynx</td>\n",
       "      <td>1999.0</td>\n",
       "      <td>5-9 years</td>\n",
       "      <td>American Indian or Alaska Native</td>\n",
       "      <td>0</td>\n",
       "      <td>874</td>\n",
       "      <td>0.0</td>\n",
       "      <td>Female</td>\n",
       "    </tr>\n",
       "  </tbody>\n",
       "</table>\n",
       "</div>"
      ],
      "text/plain": [
       "     State             Cancer Sites    Year  Age Group  \\\n",
       "0  Alabama  Oral Cavity and Pharynx  1999.0   < 1 year   \n",
       "1  Alabama  Oral Cavity and Pharynx  1999.0   < 1 year   \n",
       "2  Alabama  Oral Cavity and Pharynx  1999.0  1-4 years   \n",
       "3  Alabama  Oral Cavity and Pharynx  1999.0  1-4 years   \n",
       "4  Alabama  Oral Cavity and Pharynx  1999.0  5-9 years   \n",
       "\n",
       "                               Race  Deaths  Population  Crude Rate     Sex  \n",
       "0  American Indian or Alaska Native       0         104         0.0  Female  \n",
       "1         Asian or Pacific Islander       0         245         0.0  Female  \n",
       "2  American Indian or Alaska Native       0         535         0.0  Female  \n",
       "3         Asian or Pacific Islander       0        1193         0.0  Female  \n",
       "4  American Indian or Alaska Native       0         874         0.0  Female  "
      ]
     },
     "execution_count": 5,
     "metadata": {},
     "output_type": "execute_result"
    }
   ],
   "source": [
    "df.head()"
   ]
  },
  {
   "cell_type": "code",
   "execution_count": 6,
   "metadata": {
    "collapsed": false,
    "scrolled": false
   },
   "outputs": [
    {
     "data": {
      "text/html": [
       "<div>\n",
       "<table border=\"1\" class=\"dataframe\">\n",
       "  <thead>\n",
       "    <tr style=\"text-align: right;\">\n",
       "      <th></th>\n",
       "      <th>Deaths</th>\n",
       "      <th>Population</th>\n",
       "      <th>Crude Rate</th>\n",
       "    </tr>\n",
       "  </thead>\n",
       "  <tbody>\n",
       "    <tr>\n",
       "      <th>count</th>\n",
       "      <td>1.604437e+06</td>\n",
       "      <td>1.604437e+06</td>\n",
       "      <td>1.604437e+06</td>\n",
       "    </tr>\n",
       "    <tr>\n",
       "      <th>mean</th>\n",
       "      <td>4.327168e+00</td>\n",
       "      <td>3.115196e+04</td>\n",
       "      <td>7.820038e+00</td>\n",
       "    </tr>\n",
       "    <tr>\n",
       "      <th>std</th>\n",
       "      <td>3.174580e+01</td>\n",
       "      <td>8.085297e+04</td>\n",
       "      <td>5.260628e+01</td>\n",
       "    </tr>\n",
       "    <tr>\n",
       "      <th>min</th>\n",
       "      <td>0.000000e+00</td>\n",
       "      <td>1.000000e+00</td>\n",
       "      <td>0.000000e+00</td>\n",
       "    </tr>\n",
       "    <tr>\n",
       "      <th>25%</th>\n",
       "      <td>0.000000e+00</td>\n",
       "      <td>5.620000e+02</td>\n",
       "      <td>0.000000e+00</td>\n",
       "    </tr>\n",
       "    <tr>\n",
       "      <th>50%</th>\n",
       "      <td>0.000000e+00</td>\n",
       "      <td>2.905000e+03</td>\n",
       "      <td>0.000000e+00</td>\n",
       "    </tr>\n",
       "    <tr>\n",
       "      <th>75%</th>\n",
       "      <td>0.000000e+00</td>\n",
       "      <td>2.110400e+04</td>\n",
       "      <td>0.000000e+00</td>\n",
       "    </tr>\n",
       "    <tr>\n",
       "      <th>max</th>\n",
       "      <td>1.350000e+03</td>\n",
       "      <td>1.143086e+06</td>\n",
       "      <td>2.390400e+03</td>\n",
       "    </tr>\n",
       "  </tbody>\n",
       "</table>\n",
       "</div>"
      ],
      "text/plain": [
       "             Deaths    Population    Crude Rate\n",
       "count  1.604437e+06  1.604437e+06  1.604437e+06\n",
       "mean   4.327168e+00  3.115196e+04  7.820038e+00\n",
       "std    3.174580e+01  8.085297e+04  5.260628e+01\n",
       "min    0.000000e+00  1.000000e+00  0.000000e+00\n",
       "25%    0.000000e+00  5.620000e+02  0.000000e+00\n",
       "50%    0.000000e+00  2.905000e+03  0.000000e+00\n",
       "75%    0.000000e+00  2.110400e+04  0.000000e+00\n",
       "max    1.350000e+03  1.143086e+06  2.390400e+03"
      ]
     },
     "execution_count": 6,
     "metadata": {},
     "output_type": "execute_result"
    }
   ],
   "source": [
    "df.describe()"
   ]
  },
  {
   "cell_type": "markdown",
   "metadata": {},
   "source": [
    "### Year column is not required for my future analysis as I am not looking at progress of the disease over time but at percentage death for a catergory of people."
   ]
  },
  {
   "cell_type": "code",
   "execution_count": 7,
   "metadata": {
    "collapsed": false
   },
   "outputs": [
    {
     "data": {
      "text/html": [
       "<div>\n",
       "<table border=\"1\" class=\"dataframe\">\n",
       "  <thead>\n",
       "    <tr style=\"text-align: right;\">\n",
       "      <th></th>\n",
       "      <th></th>\n",
       "      <th></th>\n",
       "      <th></th>\n",
       "      <th></th>\n",
       "      <th></th>\n",
       "      <th>Deaths</th>\n",
       "      <th>Population</th>\n",
       "      <th>Crude Rate</th>\n",
       "    </tr>\n",
       "    <tr>\n",
       "      <th>State</th>\n",
       "      <th>Cancer Sites</th>\n",
       "      <th>Age Group</th>\n",
       "      <th>Sex</th>\n",
       "      <th>Race</th>\n",
       "      <th>Year</th>\n",
       "      <th></th>\n",
       "      <th></th>\n",
       "      <th></th>\n",
       "    </tr>\n",
       "  </thead>\n",
       "  <tbody>\n",
       "    <tr>\n",
       "      <th rowspan=\"5\" valign=\"top\">Alabama</th>\n",
       "      <th rowspan=\"5\" valign=\"top\">Bones and Joints</th>\n",
       "      <th rowspan=\"5\" valign=\"top\">1-4 years</th>\n",
       "      <th rowspan=\"5\" valign=\"top\">Female</th>\n",
       "      <th rowspan=\"5\" valign=\"top\">American Indian or Alaska Native</th>\n",
       "      <th>1999.0</th>\n",
       "      <td>0</td>\n",
       "      <td>535</td>\n",
       "      <td>0.0</td>\n",
       "    </tr>\n",
       "    <tr>\n",
       "      <th>2000.0</th>\n",
       "      <td>0</td>\n",
       "      <td>633</td>\n",
       "      <td>0.0</td>\n",
       "    </tr>\n",
       "    <tr>\n",
       "      <th>2001.0</th>\n",
       "      <td>0</td>\n",
       "      <td>667</td>\n",
       "      <td>0.0</td>\n",
       "    </tr>\n",
       "    <tr>\n",
       "      <th>2002.0</th>\n",
       "      <td>0</td>\n",
       "      <td>679</td>\n",
       "      <td>0.0</td>\n",
       "    </tr>\n",
       "    <tr>\n",
       "      <th>2003.0</th>\n",
       "      <td>0</td>\n",
       "      <td>692</td>\n",
       "      <td>0.0</td>\n",
       "    </tr>\n",
       "  </tbody>\n",
       "</table>\n",
       "</div>"
      ],
      "text/plain": [
       "                                                                                   Deaths  \\\n",
       "State   Cancer Sites     Age Group Sex    Race                             Year             \n",
       "Alabama Bones and Joints 1-4 years Female American Indian or Alaska Native 1999.0       0   \n",
       "                                                                           2000.0       0   \n",
       "                                                                           2001.0       0   \n",
       "                                                                           2002.0       0   \n",
       "                                                                           2003.0       0   \n",
       "\n",
       "                                                                                   Population  \\\n",
       "State   Cancer Sites     Age Group Sex    Race                             Year                 \n",
       "Alabama Bones and Joints 1-4 years Female American Indian or Alaska Native 1999.0         535   \n",
       "                                                                           2000.0         633   \n",
       "                                                                           2001.0         667   \n",
       "                                                                           2002.0         679   \n",
       "                                                                           2003.0         692   \n",
       "\n",
       "                                                                                   Crude Rate  \n",
       "State   Cancer Sites     Age Group Sex    Race                             Year                \n",
       "Alabama Bones and Joints 1-4 years Female American Indian or Alaska Native 1999.0         0.0  \n",
       "                                                                           2000.0         0.0  \n",
       "                                                                           2001.0         0.0  \n",
       "                                                                           2002.0         0.0  \n",
       "                                                                           2003.0         0.0  "
      ]
     },
     "execution_count": 7,
     "metadata": {},
     "output_type": "execute_result"
    }
   ],
   "source": [
    "# Grouping to see how can we get rid of year column and combine rest of the data\n",
    "df1=df.groupby(['State','Cancer Sites', 'Age Group', 'Sex', 'Race','Year',])[ 'Deaths', 'Population', 'Crude Rate'].sum()\n",
    "df1.head()"
   ]
  },
  {
   "cell_type": "code",
   "execution_count": 8,
   "metadata": {
    "collapsed": false,
    "scrolled": true
   },
   "outputs": [
    {
     "data": {
      "text/html": [
       "<div>\n",
       "<table border=\"1\" class=\"dataframe\">\n",
       "  <thead>\n",
       "    <tr style=\"text-align: right;\">\n",
       "      <th></th>\n",
       "      <th>State</th>\n",
       "      <th>Cancer Sites</th>\n",
       "      <th>Age Group</th>\n",
       "      <th>Sex</th>\n",
       "      <th>Race</th>\n",
       "      <th>Deaths</th>\n",
       "      <th>Population</th>\n",
       "      <th>Crude Rate</th>\n",
       "    </tr>\n",
       "  </thead>\n",
       "  <tbody>\n",
       "    <tr>\n",
       "      <th>0</th>\n",
       "      <td>Alabama</td>\n",
       "      <td>Bones and Joints</td>\n",
       "      <td>1-4 years</td>\n",
       "      <td>Female</td>\n",
       "      <td>American Indian or Alaska Native</td>\n",
       "      <td>0</td>\n",
       "      <td>10945</td>\n",
       "      <td>0.0</td>\n",
       "    </tr>\n",
       "    <tr>\n",
       "      <th>1</th>\n",
       "      <td>Alabama</td>\n",
       "      <td>Bones and Joints</td>\n",
       "      <td>1-4 years</td>\n",
       "      <td>Female</td>\n",
       "      <td>Asian or Pacific Islander</td>\n",
       "      <td>0</td>\n",
       "      <td>22211</td>\n",
       "      <td>0.0</td>\n",
       "    </tr>\n",
       "    <tr>\n",
       "      <th>2</th>\n",
       "      <td>Alabama</td>\n",
       "      <td>Bones and Joints</td>\n",
       "      <td>1-4 years</td>\n",
       "      <td>Female</td>\n",
       "      <td>Black or African American</td>\n",
       "      <td>0</td>\n",
       "      <td>595120</td>\n",
       "      <td>0.0</td>\n",
       "    </tr>\n",
       "    <tr>\n",
       "      <th>3</th>\n",
       "      <td>Alabama</td>\n",
       "      <td>Bones and Joints</td>\n",
       "      <td>1-4 years</td>\n",
       "      <td>Female</td>\n",
       "      <td>White</td>\n",
       "      <td>0</td>\n",
       "      <td>1241769</td>\n",
       "      <td>0.0</td>\n",
       "    </tr>\n",
       "    <tr>\n",
       "      <th>4</th>\n",
       "      <td>Alabama</td>\n",
       "      <td>Bones and Joints</td>\n",
       "      <td>1-4 years</td>\n",
       "      <td>Male</td>\n",
       "      <td>American Indian or Alaska Native</td>\n",
       "      <td>0</td>\n",
       "      <td>11988</td>\n",
       "      <td>0.0</td>\n",
       "    </tr>\n",
       "  </tbody>\n",
       "</table>\n",
       "</div>"
      ],
      "text/plain": [
       "     State      Cancer Sites  Age Group     Sex  \\\n",
       "0  Alabama  Bones and Joints  1-4 years  Female   \n",
       "1  Alabama  Bones and Joints  1-4 years  Female   \n",
       "2  Alabama  Bones and Joints  1-4 years  Female   \n",
       "3  Alabama  Bones and Joints  1-4 years  Female   \n",
       "4  Alabama  Bones and Joints  1-4 years    Male   \n",
       "\n",
       "                               Race  Deaths  Population  Crude Rate  \n",
       "0  American Indian or Alaska Native       0       10945         0.0  \n",
       "1         Asian or Pacific Islander       0       22211         0.0  \n",
       "2         Black or African American       0      595120         0.0  \n",
       "3                             White       0     1241769         0.0  \n",
       "4  American Indian or Alaska Native       0       11988         0.0  "
      ]
     },
     "execution_count": 8,
     "metadata": {},
     "output_type": "execute_result"
    }
   ],
   "source": [
    "# sum over the Deaths, Population and Crude Rate for a particular category over all the years.\n",
    "df2=df.groupby(['State','Cancer Sites', 'Age Group', 'Sex', 'Race'], as_index=False)[ 'Deaths', 'Population', 'Crude Rate'].sum()\n",
    "df2.head()"
   ]
  },
  {
   "cell_type": "code",
   "execution_count": 9,
   "metadata": {
    "collapsed": false
   },
   "outputs": [
    {
     "data": {
      "text/html": [
       "<div>\n",
       "<table border=\"1\" class=\"dataframe\">\n",
       "  <thead>\n",
       "    <tr style=\"text-align: right;\">\n",
       "      <th></th>\n",
       "      <th>Deaths</th>\n",
       "      <th>Population</th>\n",
       "      <th>Crude Rate</th>\n",
       "    </tr>\n",
       "  </thead>\n",
       "  <tbody>\n",
       "    <tr>\n",
       "      <th>count</th>\n",
       "      <td>126397.000000</td>\n",
       "      <td>1.263970e+05</td>\n",
       "      <td>126397.000000</td>\n",
       "    </tr>\n",
       "    <tr>\n",
       "      <th>mean</th>\n",
       "      <td>54.927482</td>\n",
       "      <td>3.954315e+05</td>\n",
       "      <td>99.264687</td>\n",
       "    </tr>\n",
       "    <tr>\n",
       "      <th>std</th>\n",
       "      <td>442.125022</td>\n",
       "      <td>1.046089e+06</td>\n",
       "      <td>704.258432</td>\n",
       "    </tr>\n",
       "    <tr>\n",
       "      <th>min</th>\n",
       "      <td>0.000000</td>\n",
       "      <td>2.400000e+01</td>\n",
       "      <td>0.000000</td>\n",
       "    </tr>\n",
       "    <tr>\n",
       "      <th>25%</th>\n",
       "      <td>0.000000</td>\n",
       "      <td>8.188000e+03</td>\n",
       "      <td>0.000000</td>\n",
       "    </tr>\n",
       "    <tr>\n",
       "      <th>50%</th>\n",
       "      <td>0.000000</td>\n",
       "      <td>4.200000e+04</td>\n",
       "      <td>0.000000</td>\n",
       "    </tr>\n",
       "    <tr>\n",
       "      <th>75%</th>\n",
       "      <td>0.000000</td>\n",
       "      <td>2.813880e+05</td>\n",
       "      <td>0.000000</td>\n",
       "    </tr>\n",
       "    <tr>\n",
       "      <th>max</th>\n",
       "      <td>19291.000000</td>\n",
       "      <td>1.603210e+07</td>\n",
       "      <td>23110.300000</td>\n",
       "    </tr>\n",
       "  </tbody>\n",
       "</table>\n",
       "</div>"
      ],
      "text/plain": [
       "              Deaths    Population     Crude Rate\n",
       "count  126397.000000  1.263970e+05  126397.000000\n",
       "mean       54.927482  3.954315e+05      99.264687\n",
       "std       442.125022  1.046089e+06     704.258432\n",
       "min         0.000000  2.400000e+01       0.000000\n",
       "25%         0.000000  8.188000e+03       0.000000\n",
       "50%         0.000000  4.200000e+04       0.000000\n",
       "75%         0.000000  2.813880e+05       0.000000\n",
       "max     19291.000000  1.603210e+07   23110.300000"
      ]
     },
     "execution_count": 9,
     "metadata": {},
     "output_type": "execute_result"
    }
   ],
   "source": [
    "df2.describe()"
   ]
  },
  {
   "cell_type": "code",
   "execution_count": 10,
   "metadata": {
    "collapsed": false
   },
   "outputs": [
    {
     "data": {
      "image/png": "[encoded data removed]",
      "text/plain": [
       "<matplotlib.figure.Figure at 0x13073e208>"
      ]
     },
     "metadata": {},
     "output_type": "display_data"
    }
   ],
   "source": [
    "# Looking at the distribution of deaths\n",
    "deaths = df2[df2['Deaths'] != 0]\n",
    "import matplotlib.pyplot as plt\n",
    "plt.hist(deaths.Deaths, bins=300)\n",
    "plt.xlim()\n",
    "plt.xlabel('Deaths')\n",
    "plt.ylabel('Frequency')\n",
    "plt.show()"
   ]
  },
  {
   "cell_type": "code",
   "execution_count": 11,
   "metadata": {
    "collapsed": false,
    "scrolled": true
   },
   "outputs": [
    {
     "name": "stderr",
     "output_type": "stream",
     "text": [
      "/Users/TarjaniAgrawal/anaconda/lib/python3.6/site-packages/ipykernel/__main__.py:3: SettingWithCopyWarning: \n",
      "A value is trying to be set on a copy of a slice from a DataFrame.\n",
      "Try using .loc[row_indexer,col_indexer] = value instead\n",
      "\n",
      "See the caveats in the documentation: http://pandas.pydata.org/pandas-docs/stable/indexing.html#indexing-view-versus-copy\n",
      "  app.launch_new_instance()\n"
     ]
    },
    {
     "data": {
      "image/png": "[encoded data removed]",
      "text/plain": [
       "<matplotlib.figure.Figure at 0x10380b240>"
      ]
     },
     "metadata": {},
     "output_type": "display_data"
    }
   ],
   "source": [
    "# Getting percentage population as per Crude rate\n",
    "CR =  df2[df2['Crude Rate'] != 0]\n",
    "CR['%DeathPerCR'] =  (CR.Deaths / CR['Crude Rate'])\n",
    "plt.hist(CR['%DeathPerCR'] , bins=500)\n",
    "plt.xlim()\n",
    "plt.show()"
   ]
  },
  {
   "cell_type": "markdown",
   "metadata": {},
   "source": [
    "#### Crude rate is actual cases reported to the hospital and deaths are death due to those cases. Therefore Crude rate can not be higher than deaths, hence Deaths/Crude Rate can not be more than 1. \n",
    "#### However here we see that values are way more than 1, therefore to calculate percentage deaths we would use population. "
   ]
  },
  {
   "cell_type": "code",
   "execution_count": 12,
   "metadata": {
    "collapsed": false,
    "scrolled": true
   },
   "outputs": [
    {
     "data": {
      "image/png": "[encoded data removed]",
      "text/plain": [
       "<matplotlib.figure.Figure at 0x111d21c88>"
      ]
     },
     "metadata": {},
     "output_type": "display_data"
    }
   ],
   "source": [
    "# Looking at distribution of population\n",
    "Pop =  df2[df2['Population'] != 0]\n",
    "plt.hist(Pop['Population'], bins=500)\n",
    "plt.xlim(0, 200000)\n",
    "plt.xlabel('Population')\n",
    "plt.ylabel('Frequency')\n",
    "plt.show()"
   ]
  },
  {
   "cell_type": "code",
   "execution_count": 13,
   "metadata": {
    "collapsed": false,
    "scrolled": false
   },
   "outputs": [
    {
     "data": {
      "text/html": [
       "<div>\n",
       "<table border=\"1\" class=\"dataframe\">\n",
       "  <thead>\n",
       "    <tr style=\"text-align: right;\">\n",
       "      <th></th>\n",
       "      <th>Deaths</th>\n",
       "      <th>Population</th>\n",
       "      <th>Crude Rate</th>\n",
       "      <th>%DeathPerPop</th>\n",
       "    </tr>\n",
       "  </thead>\n",
       "  <tbody>\n",
       "    <tr>\n",
       "      <th>count</th>\n",
       "      <td>126397.000000</td>\n",
       "      <td>1.263970e+05</td>\n",
       "      <td>126397.000000</td>\n",
       "      <td>126397.000000</td>\n",
       "    </tr>\n",
       "    <tr>\n",
       "      <th>mean</th>\n",
       "      <td>54.927482</td>\n",
       "      <td>3.954315e+05</td>\n",
       "      <td>99.264687</td>\n",
       "      <td>0.007652</td>\n",
       "    </tr>\n",
       "    <tr>\n",
       "      <th>std</th>\n",
       "      <td>442.125022</td>\n",
       "      <td>1.046089e+06</td>\n",
       "      <td>704.258432</td>\n",
       "      <td>0.052046</td>\n",
       "    </tr>\n",
       "    <tr>\n",
       "      <th>min</th>\n",
       "      <td>0.000000</td>\n",
       "      <td>2.400000e+01</td>\n",
       "      <td>0.000000</td>\n",
       "      <td>0.000000</td>\n",
       "    </tr>\n",
       "    <tr>\n",
       "      <th>25%</th>\n",
       "      <td>0.000000</td>\n",
       "      <td>8.188000e+03</td>\n",
       "      <td>0.000000</td>\n",
       "      <td>0.000000</td>\n",
       "    </tr>\n",
       "    <tr>\n",
       "      <th>50%</th>\n",
       "      <td>0.000000</td>\n",
       "      <td>4.200000e+04</td>\n",
       "      <td>0.000000</td>\n",
       "      <td>0.000000</td>\n",
       "    </tr>\n",
       "    <tr>\n",
       "      <th>75%</th>\n",
       "      <td>0.000000</td>\n",
       "      <td>2.813880e+05</td>\n",
       "      <td>0.000000</td>\n",
       "      <td>0.000000</td>\n",
       "    </tr>\n",
       "    <tr>\n",
       "      <th>max</th>\n",
       "      <td>19291.000000</td>\n",
       "      <td>1.603210e+07</td>\n",
       "      <td>23110.300000</td>\n",
       "      <td>2.390438</td>\n",
       "    </tr>\n",
       "  </tbody>\n",
       "</table>\n",
       "</div>"
      ],
      "text/plain": [
       "              Deaths    Population     Crude Rate   %DeathPerPop\n",
       "count  126397.000000  1.263970e+05  126397.000000  126397.000000\n",
       "mean       54.927482  3.954315e+05      99.264687       0.007652\n",
       "std       442.125022  1.046089e+06     704.258432       0.052046\n",
       "min         0.000000  2.400000e+01       0.000000       0.000000\n",
       "25%         0.000000  8.188000e+03       0.000000       0.000000\n",
       "50%         0.000000  4.200000e+04       0.000000       0.000000\n",
       "75%         0.000000  2.813880e+05       0.000000       0.000000\n",
       "max     19291.000000  1.603210e+07   23110.300000       2.390438"
      ]
     },
     "execution_count": 13,
     "metadata": {},
     "output_type": "execute_result"
    }
   ],
   "source": [
    "# Percentage deaths as per population and Crude rate\n",
    "Pop['%DeathPerPop'] =  (Pop.Deaths / Pop.Population)*100\n",
    "Pop.describe()"
   ]
  },
  {
   "cell_type": "markdown",
   "metadata": {},
   "source": [
    "### To categorise the data into three categories ie High Risk, Intermediate Risk, and Low Risk depending on the percantage deaths.¶"
   ]
  },
  {
   "cell_type": "code",
   "execution_count": 15,
   "metadata": {
    "collapsed": false
   },
   "outputs": [
    {
     "data": {
      "image/png": "[encoded data removed]",
      "text/plain": [
       "<matplotlib.figure.Figure at 0x111be2e10>"
      ]
     },
     "metadata": {},
     "output_type": "display_data"
    }
   ],
   "source": [
    "DeathPop = Pop[Pop['%DeathPerPop'] != 0] \n",
    "import matplotlib.pyplot as plt\n",
    "plt.rc('axes', labelsize=25)\n",
    "plt.rc('legend', fontsize=18) \n",
    "plt.figure(figsize=(20,10))\n",
    "plt.hist(DeathPop['%DeathPerPop'] , bins=500)\n",
    "plt.axvline(x=0.05, color='r', linestyle='dashed', label='Low/Intermediate Risk Cutoff = 0.05%')\n",
    "plt.axvline(x=0.165, color='g', linestyle='dashed', label='Intermediate/High Risk Cutoff = 0.165%')\n",
    "plt.xlabel('% Death = (Deaths / Pop) * 100')\n",
    "plt.ylabel('Frequency')\n",
    "plt.legend(loc='best')\n",
    "plt.xlim()\n",
    "plt.show()"
   ]
  },
  {
   "cell_type": "code",
   "execution_count": 16,
   "metadata": {
    "collapsed": false
   },
   "outputs": [
    {
     "data": {
      "text/html": [
       "<div>\n",
       "<table border=\"1\" class=\"dataframe\">\n",
       "  <thead>\n",
       "    <tr style=\"text-align: right;\">\n",
       "      <th></th>\n",
       "      <th>State</th>\n",
       "      <th>Cancer Sites</th>\n",
       "      <th>Age Group</th>\n",
       "      <th>Sex</th>\n",
       "      <th>Race</th>\n",
       "      <th>Deaths</th>\n",
       "      <th>Population</th>\n",
       "      <th>Crude Rate</th>\n",
       "      <th>%DeathPerPop</th>\n",
       "    </tr>\n",
       "  </thead>\n",
       "  <tbody>\n",
       "    <tr>\n",
       "      <th>234</th>\n",
       "      <td>Alabama</td>\n",
       "      <td>Brain and Other Nervous System</td>\n",
       "      <td>50-54 years</td>\n",
       "      <td>Male</td>\n",
       "      <td>White</td>\n",
       "      <td>17</td>\n",
       "      <td>117108</td>\n",
       "      <td>14.5</td>\n",
       "      <td>0.014517</td>\n",
       "    </tr>\n",
       "    <tr>\n",
       "      <th>240</th>\n",
       "      <td>Alabama</td>\n",
       "      <td>Brain and Other Nervous System</td>\n",
       "      <td>55-59 years</td>\n",
       "      <td>Male</td>\n",
       "      <td>White</td>\n",
       "      <td>110</td>\n",
       "      <td>681331</td>\n",
       "      <td>96.6</td>\n",
       "      <td>0.016145</td>\n",
       "    </tr>\n",
       "    <tr>\n",
       "      <th>244</th>\n",
       "      <td>Alabama</td>\n",
       "      <td>Brain and Other Nervous System</td>\n",
       "      <td>60-64 years</td>\n",
       "      <td>Female</td>\n",
       "      <td>White</td>\n",
       "      <td>19</td>\n",
       "      <td>112092</td>\n",
       "      <td>17.0</td>\n",
       "      <td>0.016950</td>\n",
       "    </tr>\n",
       "    <tr>\n",
       "      <th>248</th>\n",
       "      <td>Alabama</td>\n",
       "      <td>Brain and Other Nervous System</td>\n",
       "      <td>60-64 years</td>\n",
       "      <td>Male</td>\n",
       "      <td>White</td>\n",
       "      <td>74</td>\n",
       "      <td>392254</td>\n",
       "      <td>75.5</td>\n",
       "      <td>0.018865</td>\n",
       "    </tr>\n",
       "    <tr>\n",
       "      <th>252</th>\n",
       "      <td>Alabama</td>\n",
       "      <td>Brain and Other Nervous System</td>\n",
       "      <td>65-69 years</td>\n",
       "      <td>Female</td>\n",
       "      <td>White</td>\n",
       "      <td>34</td>\n",
       "      <td>187027</td>\n",
       "      <td>36.6</td>\n",
       "      <td>0.018179</td>\n",
       "    </tr>\n",
       "  </tbody>\n",
       "</table>\n",
       "</div>"
      ],
      "text/plain": [
       "       State                    Cancer Sites     Age Group     Sex   Race  \\\n",
       "234  Alabama  Brain and Other Nervous System   50-54 years    Male  White   \n",
       "240  Alabama  Brain and Other Nervous System   55-59 years    Male  White   \n",
       "244  Alabama  Brain and Other Nervous System  60-64 years   Female  White   \n",
       "248  Alabama  Brain and Other Nervous System  60-64 years     Male  White   \n",
       "252  Alabama  Brain and Other Nervous System   65-69 years  Female  White   \n",
       "\n",
       "     Deaths  Population  Crude Rate  %DeathPerPop  \n",
       "234      17      117108        14.5      0.014517  \n",
       "240     110      681331        96.6      0.016145  \n",
       "244      19      112092        17.0      0.016950  \n",
       "248      74      392254        75.5      0.018865  \n",
       "252      34      187027        36.6      0.018179  "
      ]
     },
     "execution_count": 16,
     "metadata": {},
     "output_type": "execute_result"
    }
   ],
   "source": [
    "DeathPop.head()"
   ]
  },
  {
   "cell_type": "code",
   "execution_count": 17,
   "metadata": {
    "collapsed": false,
    "scrolled": true
   },
   "outputs": [
    {
     "name": "stderr",
     "output_type": "stream",
     "text": [
      "/Users/TarjaniAgrawal/anaconda/lib/python3.6/site-packages/ipykernel/__main__.py:11: SettingWithCopyWarning: \n",
      "A value is trying to be set on a copy of a slice from a DataFrame.\n",
      "Try using .loc[row_indexer,col_indexer] = value instead\n",
      "\n",
      "See the caveats in the documentation: http://pandas.pydata.org/pandas-docs/stable/indexing.html#indexing-view-versus-copy\n"
     ]
    },
    {
     "data": {
      "text/html": [
       "<div>\n",
       "<table border=\"1\" class=\"dataframe\">\n",
       "  <thead>\n",
       "    <tr style=\"text-align: right;\">\n",
       "      <th></th>\n",
       "      <th>State</th>\n",
       "      <th>Cancer Sites</th>\n",
       "      <th>Age Group</th>\n",
       "      <th>Sex</th>\n",
       "      <th>Race</th>\n",
       "      <th>Deaths</th>\n",
       "      <th>Population</th>\n",
       "      <th>Crude Rate</th>\n",
       "      <th>%DeathPerPop</th>\n",
       "      <th>Risk</th>\n",
       "    </tr>\n",
       "  </thead>\n",
       "  <tbody>\n",
       "    <tr>\n",
       "      <th>234</th>\n",
       "      <td>Alabama</td>\n",
       "      <td>Brain and Other Nervous System</td>\n",
       "      <td>50-54 years</td>\n",
       "      <td>Male</td>\n",
       "      <td>White</td>\n",
       "      <td>17</td>\n",
       "      <td>117108</td>\n",
       "      <td>14.5</td>\n",
       "      <td>0.014517</td>\n",
       "      <td>LOW</td>\n",
       "    </tr>\n",
       "    <tr>\n",
       "      <th>240</th>\n",
       "      <td>Alabama</td>\n",
       "      <td>Brain and Other Nervous System</td>\n",
       "      <td>55-59 years</td>\n",
       "      <td>Male</td>\n",
       "      <td>White</td>\n",
       "      <td>110</td>\n",
       "      <td>681331</td>\n",
       "      <td>96.6</td>\n",
       "      <td>0.016145</td>\n",
       "      <td>LOW</td>\n",
       "    </tr>\n",
       "    <tr>\n",
       "      <th>244</th>\n",
       "      <td>Alabama</td>\n",
       "      <td>Brain and Other Nervous System</td>\n",
       "      <td>60-64 years</td>\n",
       "      <td>Female</td>\n",
       "      <td>White</td>\n",
       "      <td>19</td>\n",
       "      <td>112092</td>\n",
       "      <td>17.0</td>\n",
       "      <td>0.016950</td>\n",
       "      <td>LOW</td>\n",
       "    </tr>\n",
       "    <tr>\n",
       "      <th>248</th>\n",
       "      <td>Alabama</td>\n",
       "      <td>Brain and Other Nervous System</td>\n",
       "      <td>60-64 years</td>\n",
       "      <td>Male</td>\n",
       "      <td>White</td>\n",
       "      <td>74</td>\n",
       "      <td>392254</td>\n",
       "      <td>75.5</td>\n",
       "      <td>0.018865</td>\n",
       "      <td>LOW</td>\n",
       "    </tr>\n",
       "    <tr>\n",
       "      <th>252</th>\n",
       "      <td>Alabama</td>\n",
       "      <td>Brain and Other Nervous System</td>\n",
       "      <td>65-69 years</td>\n",
       "      <td>Female</td>\n",
       "      <td>White</td>\n",
       "      <td>34</td>\n",
       "      <td>187027</td>\n",
       "      <td>36.6</td>\n",
       "      <td>0.018179</td>\n",
       "      <td>LOW</td>\n",
       "    </tr>\n",
       "  </tbody>\n",
       "</table>\n",
       "</div>"
      ],
      "text/plain": [
       "       State                    Cancer Sites     Age Group     Sex   Race  \\\n",
       "234  Alabama  Brain and Other Nervous System   50-54 years    Male  White   \n",
       "240  Alabama  Brain and Other Nervous System   55-59 years    Male  White   \n",
       "244  Alabama  Brain and Other Nervous System  60-64 years   Female  White   \n",
       "248  Alabama  Brain and Other Nervous System  60-64 years     Male  White   \n",
       "252  Alabama  Brain and Other Nervous System   65-69 years  Female  White   \n",
       "\n",
       "     Deaths  Population  Crude Rate  %DeathPerPop Risk  \n",
       "234      17      117108        14.5      0.014517  LOW  \n",
       "240     110      681331        96.6      0.016145  LOW  \n",
       "244      19      112092        17.0      0.016950  LOW  \n",
       "248      74      392254        75.5      0.018865  LOW  \n",
       "252      34      187027        36.6      0.018179  LOW  "
      ]
     },
     "execution_count": 17,
     "metadata": {},
     "output_type": "execute_result"
    }
   ],
   "source": [
    "# Adding RISK column according to the value in %DeathPerPop\n",
    "def risk(death):\n",
    "    if death <= 0.05:\n",
    "        risk = 'LOW'\n",
    "    elif ((death > 0.05) & (death <=0.165)):\n",
    "        risk = 'INTERMEDIATE'\n",
    "    else:\n",
    "        risk = 'HIGH'\n",
    "    return risk\n",
    "\n",
    "DeathPop['Risk']= DeathPop['%DeathPerPop'].apply(risk)\n",
    "DeathPop.head()\n"
   ]
  },
  {
   "cell_type": "code",
   "execution_count": 21,
   "metadata": {
    "collapsed": false
   },
   "outputs": [
    {
     "data": {
      "text/plain": [
       "LOW             46.533613\n",
       "INTERMEDIATE    29.385504\n",
       "HIGH            24.080882\n",
       "Name: Risk, dtype: float64"
      ]
     },
     "execution_count": 21,
     "metadata": {},
     "output_type": "execute_result"
    }
   ],
   "source": [
    "(DeathPop['Risk'].value_counts()/ len(DeathPop['Risk']))*100"
   ]
  },
  {
   "cell_type": "code",
   "execution_count": 145,
   "metadata": {
    "collapsed": false,
    "scrolled": true
   },
   "outputs": [
    {
     "data": {
      "text/html": [
       "<div>\n",
       "<table border=\"1\" class=\"dataframe\">\n",
       "  <thead>\n",
       "    <tr style=\"text-align: right;\">\n",
       "      <th></th>\n",
       "      <th>State</th>\n",
       "      <th>Cancer Sites</th>\n",
       "      <th>Age Group</th>\n",
       "      <th>Sex</th>\n",
       "      <th>Race</th>\n",
       "      <th>Risk</th>\n",
       "    </tr>\n",
       "  </thead>\n",
       "  <tbody>\n",
       "    <tr>\n",
       "      <th>234</th>\n",
       "      <td>Alabama</td>\n",
       "      <td>Brain and Other Nervous System</td>\n",
       "      <td>50-54 years</td>\n",
       "      <td>Male</td>\n",
       "      <td>White</td>\n",
       "      <td>LOW</td>\n",
       "    </tr>\n",
       "    <tr>\n",
       "      <th>240</th>\n",
       "      <td>Alabama</td>\n",
       "      <td>Brain and Other Nervous System</td>\n",
       "      <td>55-59 years</td>\n",
       "      <td>Male</td>\n",
       "      <td>White</td>\n",
       "      <td>LOW</td>\n",
       "    </tr>\n",
       "    <tr>\n",
       "      <th>244</th>\n",
       "      <td>Alabama</td>\n",
       "      <td>Brain and Other Nervous System</td>\n",
       "      <td>60-64 years</td>\n",
       "      <td>Female</td>\n",
       "      <td>White</td>\n",
       "      <td>LOW</td>\n",
       "    </tr>\n",
       "    <tr>\n",
       "      <th>248</th>\n",
       "      <td>Alabama</td>\n",
       "      <td>Brain and Other Nervous System</td>\n",
       "      <td>60-64 years</td>\n",
       "      <td>Male</td>\n",
       "      <td>White</td>\n",
       "      <td>LOW</td>\n",
       "    </tr>\n",
       "    <tr>\n",
       "      <th>252</th>\n",
       "      <td>Alabama</td>\n",
       "      <td>Brain and Other Nervous System</td>\n",
       "      <td>65-69 years</td>\n",
       "      <td>Female</td>\n",
       "      <td>White</td>\n",
       "      <td>LOW</td>\n",
       "    </tr>\n",
       "  </tbody>\n",
       "</table>\n",
       "</div>"
      ],
      "text/plain": [
       "       State                    Cancer Sites     Age Group     Sex   Race Risk\n",
       "234  Alabama  Brain and Other Nervous System   50-54 years    Male  White  LOW\n",
       "240  Alabama  Brain and Other Nervous System   55-59 years    Male  White  LOW\n",
       "244  Alabama  Brain and Other Nervous System  60-64 years   Female  White  LOW\n",
       "248  Alabama  Brain and Other Nervous System  60-64 years     Male  White  LOW\n",
       "252  Alabama  Brain and Other Nervous System   65-69 years  Female  White  LOW"
      ]
     },
     "execution_count": 145,
     "metadata": {},
     "output_type": "execute_result"
    }
   ],
   "source": [
    "# Dropping the columns Deaths, Population, Crude Rate, %DeathPerPop which not needed for further analysis\n",
    "data = DeathPop.drop(['Deaths', 'Population', 'Crude Rate', '%DeathPerPop'], axis=1)\n",
    "data.head()"
   ]
  },
  {
   "cell_type": "code",
   "execution_count": 146,
   "metadata": {
    "collapsed": false
   },
   "outputs": [
    {
     "name": "stdout",
     "output_type": "stream",
     "text": [
      "<class 'pandas.core.frame.DataFrame'>\n",
      "Int64Index: 7616 entries, 234 to 125939\n",
      "Data columns (total 6 columns):\n",
      "State           7616 non-null object\n",
      "Cancer Sites    7616 non-null object\n",
      "Age Group       7616 non-null object\n",
      "Sex             7616 non-null object\n",
      "Race            7616 non-null object\n",
      "Risk            7616 non-null object\n",
      "dtypes: object(6)\n",
      "memory usage: 416.5+ KB\n"
     ]
    }
   ],
   "source": [
    "data.info()"
   ]
  },
  {
   "cell_type": "code",
   "execution_count": 147,
   "metadata": {
    "collapsed": false,
    "scrolled": false
   },
   "outputs": [
    {
     "data": {
      "text/html": [
       "<div>\n",
       "<table border=\"1\" class=\"dataframe\">\n",
       "  <thead>\n",
       "    <tr style=\"text-align: right;\">\n",
       "      <th></th>\n",
       "      <th>State</th>\n",
       "      <th>Cancer Sites</th>\n",
       "      <th>Age Group</th>\n",
       "      <th>Sex</th>\n",
       "      <th>Race</th>\n",
       "      <th>Risk</th>\n",
       "      <th>Risk_code</th>\n",
       "    </tr>\n",
       "  </thead>\n",
       "  <tbody>\n",
       "    <tr>\n",
       "      <th>234</th>\n",
       "      <td>Alabama</td>\n",
       "      <td>Brain and Other Nervous System</td>\n",
       "      <td>50-54 years</td>\n",
       "      <td>Male</td>\n",
       "      <td>White</td>\n",
       "      <td>LOW</td>\n",
       "      <td>2</td>\n",
       "    </tr>\n",
       "    <tr>\n",
       "      <th>240</th>\n",
       "      <td>Alabama</td>\n",
       "      <td>Brain and Other Nervous System</td>\n",
       "      <td>55-59 years</td>\n",
       "      <td>Male</td>\n",
       "      <td>White</td>\n",
       "      <td>LOW</td>\n",
       "      <td>2</td>\n",
       "    </tr>\n",
       "    <tr>\n",
       "      <th>244</th>\n",
       "      <td>Alabama</td>\n",
       "      <td>Brain and Other Nervous System</td>\n",
       "      <td>60-64 years</td>\n",
       "      <td>Female</td>\n",
       "      <td>White</td>\n",
       "      <td>LOW</td>\n",
       "      <td>2</td>\n",
       "    </tr>\n",
       "    <tr>\n",
       "      <th>248</th>\n",
       "      <td>Alabama</td>\n",
       "      <td>Brain and Other Nervous System</td>\n",
       "      <td>60-64 years</td>\n",
       "      <td>Male</td>\n",
       "      <td>White</td>\n",
       "      <td>LOW</td>\n",
       "      <td>2</td>\n",
       "    </tr>\n",
       "    <tr>\n",
       "      <th>252</th>\n",
       "      <td>Alabama</td>\n",
       "      <td>Brain and Other Nervous System</td>\n",
       "      <td>65-69 years</td>\n",
       "      <td>Female</td>\n",
       "      <td>White</td>\n",
       "      <td>LOW</td>\n",
       "      <td>2</td>\n",
       "    </tr>\n",
       "  </tbody>\n",
       "</table>\n",
       "</div>"
      ],
      "text/plain": [
       "       State                    Cancer Sites     Age Group     Sex   Race  \\\n",
       "234  Alabama  Brain and Other Nervous System   50-54 years    Male  White   \n",
       "240  Alabama  Brain and Other Nervous System   55-59 years    Male  White   \n",
       "244  Alabama  Brain and Other Nervous System  60-64 years   Female  White   \n",
       "248  Alabama  Brain and Other Nervous System  60-64 years     Male  White   \n",
       "252  Alabama  Brain and Other Nervous System   65-69 years  Female  White   \n",
       "\n",
       "    Risk  Risk_code  \n",
       "234  LOW          2  \n",
       "240  LOW          2  \n",
       "244  LOW          2  \n",
       "248  LOW          2  \n",
       "252  LOW          2  "
      ]
     },
     "execution_count": 147,
     "metadata": {},
     "output_type": "execute_result"
    }
   ],
   "source": [
    "# Label encoding Risk column\n",
    "from sklearn.preprocessing import LabelEncoder\n",
    "lb_make= LabelEncoder()\n",
    "data['Risk_code'] = lb_make.fit_transform(data.Risk)\n",
    "data.head()\n"
   ]
  },
  {
   "cell_type": "code",
   "execution_count": 148,
   "metadata": {
    "collapsed": false
   },
   "outputs": [
    {
     "data": {
      "text/html": [
       "<div>\n",
       "<table border=\"1\" class=\"dataframe\">\n",
       "  <thead>\n",
       "    <tr style=\"text-align: right;\">\n",
       "      <th></th>\n",
       "      <th>State</th>\n",
       "      <th>Cancer Sites</th>\n",
       "      <th>Age Group</th>\n",
       "      <th>Sex</th>\n",
       "      <th>Race</th>\n",
       "      <th>Risk_code</th>\n",
       "    </tr>\n",
       "  </thead>\n",
       "  <tbody>\n",
       "    <tr>\n",
       "      <th>234</th>\n",
       "      <td>Alabama</td>\n",
       "      <td>Brain and Other Nervous System</td>\n",
       "      <td>50-54 years</td>\n",
       "      <td>Male</td>\n",
       "      <td>White</td>\n",
       "      <td>2</td>\n",
       "    </tr>\n",
       "    <tr>\n",
       "      <th>240</th>\n",
       "      <td>Alabama</td>\n",
       "      <td>Brain and Other Nervous System</td>\n",
       "      <td>55-59 years</td>\n",
       "      <td>Male</td>\n",
       "      <td>White</td>\n",
       "      <td>2</td>\n",
       "    </tr>\n",
       "    <tr>\n",
       "      <th>244</th>\n",
       "      <td>Alabama</td>\n",
       "      <td>Brain and Other Nervous System</td>\n",
       "      <td>60-64 years</td>\n",
       "      <td>Female</td>\n",
       "      <td>White</td>\n",
       "      <td>2</td>\n",
       "    </tr>\n",
       "    <tr>\n",
       "      <th>248</th>\n",
       "      <td>Alabama</td>\n",
       "      <td>Brain and Other Nervous System</td>\n",
       "      <td>60-64 years</td>\n",
       "      <td>Male</td>\n",
       "      <td>White</td>\n",
       "      <td>2</td>\n",
       "    </tr>\n",
       "    <tr>\n",
       "      <th>252</th>\n",
       "      <td>Alabama</td>\n",
       "      <td>Brain and Other Nervous System</td>\n",
       "      <td>65-69 years</td>\n",
       "      <td>Female</td>\n",
       "      <td>White</td>\n",
       "      <td>2</td>\n",
       "    </tr>\n",
       "  </tbody>\n",
       "</table>\n",
       "</div>"
      ],
      "text/plain": [
       "       State                    Cancer Sites     Age Group     Sex   Race  \\\n",
       "234  Alabama  Brain and Other Nervous System   50-54 years    Male  White   \n",
       "240  Alabama  Brain and Other Nervous System   55-59 years    Male  White   \n",
       "244  Alabama  Brain and Other Nervous System  60-64 years   Female  White   \n",
       "248  Alabama  Brain and Other Nervous System  60-64 years     Male  White   \n",
       "252  Alabama  Brain and Other Nervous System   65-69 years  Female  White   \n",
       "\n",
       "     Risk_code  \n",
       "234          2  \n",
       "240          2  \n",
       "244          2  \n",
       "248          2  \n",
       "252          2  "
      ]
     },
     "execution_count": 148,
     "metadata": {},
     "output_type": "execute_result"
    }
   ],
   "source": [
    "# Dropping risk column after converting it to labels\n",
    "data = data.drop(['Risk'], axis=1)\n",
    "data.head()"
   ]
  },
  {
   "cell_type": "code",
   "execution_count": 149,
   "metadata": {
    "collapsed": false
   },
   "outputs": [
    {
     "data": {
      "text/plain": [
       "Index(['Risk_code', 'State_Alabama', 'State_Alaska', 'State_Arizona',\n",
       "       'State_Arkansas', 'State_California', 'State_Colorado',\n",
       "       'State_Connecticut', 'State_Delaware', 'State_District of Columbia',\n",
       "       'State_Florida', 'State_Georgia', 'State_Hawaii', 'State_Idaho',\n",
       "       'State_Illinois', 'State_Indiana', 'State_Iowa', 'State_Kansas',\n",
       "       'State_Kentucky', 'State_Louisiana', 'State_Maine', 'State_Maryland',\n",
       "       'State_Massachusetts', 'State_Michigan', 'State_Minnesota',\n",
       "       'State_Mississippi', 'State_Missouri', 'State_Montana',\n",
       "       'State_Nebraska', 'State_Nevada', 'State_New Hampshire',\n",
       "       'State_New Jersey', 'State_New Mexico', 'State_New York',\n",
       "       'State_North Carolina', 'State_North Dakota', 'State_Ohio',\n",
       "       'State_Oklahoma', 'State_Oregon', 'State_Pennsylvania',\n",
       "       'State_Rhode Island', 'State_South Carolina', 'State_South Dakota',\n",
       "       'State_Tennessee', 'State_Texas', 'State_Utah', 'State_Vermont',\n",
       "       'State_Virginia', 'State_Washington', 'State_West Virginia',\n",
       "       'State_Wisconsin', 'State_Wyoming', 'Cancer Sites_Bones and Joints',\n",
       "       'Cancer Sites_Brain and Other Nervous System',\n",
       "       'Cancer Sites_Digestive System', 'Cancer Sites_Endocrine System',\n",
       "       'Cancer Sites_Female Genital System', 'Cancer Sites_Leukemias',\n",
       "       'Cancer Sites_Lymphomas', 'Cancer Sites_Male Genital System',\n",
       "       'Cancer Sites_Male and Female Breast', 'Cancer Sites_Mesothelioma',\n",
       "       'Cancer Sites_Myeloma', 'Cancer Sites_Oral Cavity and Pharynx',\n",
       "       'Cancer Sites_Respiratory System',\n",
       "       'Cancer Sites_Skin excluding Basal and Squamous',\n",
       "       'Cancer Sites_Soft Tissue including Heart',\n",
       "       'Cancer Sites_Urinary System', 'Age Group_1-4 years',\n",
       "       'Age Group_10-14 years', 'Age Group_15-19 years',\n",
       "       'Age Group_20-24 years', 'Age Group_25-29 years',\n",
       "       'Age Group_30-34 years', 'Age Group_35-39 years',\n",
       "       'Age Group_40-44 years', 'Age Group_45-49 years', 'Age Group_5-9 years',\n",
       "       'Age Group_50-54 years', 'Age Group_55-59 years',\n",
       "       'Age Group_60-64 years ', 'Age Group_65-69 years',\n",
       "       'Age Group_70-74 years', 'Age Group_75-79 years',\n",
       "       'Age Group_80-84 years', 'Age Group_85+ years', 'Sex_Female',\n",
       "       'Sex_Male', 'Race_American Indian or Alaska Native',\n",
       "       'Race_Asian or Pacific Islander', 'Race_Black or African American',\n",
       "       'Race_White'],\n",
       "      dtype='object')"
      ]
     },
     "execution_count": 149,
     "metadata": {},
     "output_type": "execute_result"
    }
   ],
   "source": [
    "# Getting dummies for State, Cancer Sites, Age, Sex and Race\n",
    "data = pd.get_dummies(data, columns= ['State', 'Cancer Sites', 'Age Group', 'Sex', 'Race']) \n",
    "data.columns"
   ]
  },
  {
   "cell_type": "code",
   "execution_count": 150,
   "metadata": {
    "collapsed": true
   },
   "outputs": [],
   "source": [
    "#Creating X and Y array for dataset \n",
    "X= data.drop(['Risk_code'], axis=1).as_matrix()\n",
    "y= data['Risk_code'].as_matrix()"
   ]
  },
  {
   "cell_type": "code",
   "execution_count": 151,
   "metadata": {
    "collapsed": false
   },
   "outputs": [
    {
     "name": "stdout",
     "output_type": "stream",
     "text": [
      "(7616, 91) (7616,)\n"
     ]
    }
   ],
   "source": [
    "print(X.shape, y.shape)"
   ]
  },
  {
   "cell_type": "code",
   "execution_count": 153,
   "metadata": {
    "collapsed": false
   },
   "outputs": [
    {
     "name": "stdout",
     "output_type": "stream",
     "text": [
      "(5712, 91)\n",
      "(1904, 91)\n",
      "(5712,)\n",
      "(1904,)\n"
     ]
    }
   ],
   "source": [
    "# Train test split data \n",
    "from sklearn.model_selection import train_test_split\n",
    "X_trainlr, X_testlr, y_trainlr, y_testlr = train_test_split(X, y, random_state=5) \n",
    "print(X_trainlr.shape)\n",
    "print(X_testlr.shape)\n",
    "print(y_trainlr.shape)\n",
    "print(y_testlr.shape)"
   ]
  },
  {
   "cell_type": "code",
   "execution_count": 156,
   "metadata": {
    "collapsed": false,
    "scrolled": true
   },
   "outputs": [
    {
     "name": "stdout",
     "output_type": "stream",
     "text": [
      "\n",
      "\n",
      "X_trainlr: [[0 0 0 ..., 0 1 0]\n",
      " [0 0 0 ..., 0 1 0]\n",
      " [0 0 0 ..., 0 0 1]\n",
      " ..., \n",
      " [0 0 0 ..., 0 0 1]\n",
      " [0 0 0 ..., 0 1 0]\n",
      " [0 0 0 ..., 0 0 1]] <class 'numpy.ndarray'> (5712, 91) 5712\n",
      "X_testlr [[0 0 0 ..., 0 0 1]\n",
      " [0 0 0 ..., 0 1 0]\n",
      " [0 0 0 ..., 0 0 1]\n",
      " ..., \n",
      " [0 0 1 ..., 0 0 1]\n",
      " [0 0 0 ..., 0 0 1]\n",
      " [0 0 0 ..., 0 0 1]] <class 'numpy.ndarray'> (1904, 91) 1904\n",
      "y_trainlr: [2 2 1 ..., 0 0 1] <class 'numpy.ndarray'> (5712,) 5712\n",
      "y_testlr [2 0 2 ..., 1 2 1] <class 'numpy.ndarray'> (1904,) 1904\n"
     ]
    }
   ],
   "source": [
    "print(\"\\n\")\n",
    "print(\"X_trainlr:\", X_trainlr, type(X_trainlr), X_trainlr.shape, len(X_trainlr))\n",
    "print(\"X_testlr\", X_testlr, type(X_testlr), X_testlr.shape, len(X_testlr))\n",
    "print(\"y_trainlr:\", y_trainlr, type(y_trainlr), y_trainlr.shape, len(y_trainlr))\n",
    "print(\"y_testlr\", y_testlr, type(y_testlr), y_testlr.shape, len(y_testlr))"
   ]
  },
  {
   "cell_type": "code",
   "execution_count": 159,
   "metadata": {
    "collapsed": false
   },
   "outputs": [
    {
     "name": "stdout",
     "output_type": "stream",
     "text": [
      "Accuracy of Logistic Regression on Test data: 0.893382352941\n",
      "\n",
      "\n",
      "Accuracy of Logistic Regression on Training data 0.903711484594\n"
     ]
    }
   ],
   "source": [
    "from sklearn.linear_model import LogisticRegression\n",
    "from sklearn.metrics import accuracy_score\n",
    "\n",
    "# Instantiate Logistic Regression model\n",
    "Logreg= LogisticRegression()\n",
    "\n",
    "# fit the model to training data\n",
    "Logreg.fit(X_trainlr, y_trainlr)\n",
    "\n",
    "y_pred_test = Logreg.predict(X_testlr)\n",
    "print(\"Accuracy of Logistic Regression on Test data:\",accuracy_score(y_pred_test, y_testlr))\n",
    "\n",
    "\n",
    "y_pred_training = Logreg.predict(X_trainlr)\n",
    "print(\"\\n\")\n",
    "print(\"Accuracy of Logistic Regression on Training data\",accuracy_score(y_trainlr, y_pred_training))"
   ]
  },
  {
   "cell_type": "markdown",
   "metadata": {},
   "source": [
    "#### Here accuracy of Training data is 0.903711484594 which is pretty good which also means that there is low bias in the model. Also, accuracy of Test data is 0.893382352941 which is very close to accuracy of training data hence it means it has low variance. Both low bias and low variance are good for the model. \n",
    "#### We would try to improve the accuracy for both training and test data by optimizing the hyperparameters of the model. "
   ]
  },
  {
   "cell_type": "code",
   "execution_count": 165,
   "metadata": {
    "collapsed": false
   },
   "outputs": [
    {
     "name": "stdout",
     "output_type": "stream",
     "text": [
      "{'split0_test_score': array([ 0.91870629,  0.92307692,  0.92132867,  0.9222028 ,  0.9222028 ,\n",
      "        0.9222028 ]), 'split1_test_score': array([ 0.90297203,  0.90646853,  0.91083916,  0.91083916,  0.91083916,\n",
      "        0.91083916]), 'split2_test_score': array([ 0.9290718 ,  0.9352014 ,  0.93695271,  0.93695271,  0.93695271,\n",
      "        0.93695271]), 'split3_test_score': array([ 0.91411043,  0.92199825,  0.92550394,  0.92550394,  0.92550394,\n",
      "        0.92550394]), 'split4_test_score': array([ 0.90622261,  0.91235758,  0.91586328,  0.91761613,  0.91761613,\n",
      "        0.91761613]), 'mean_test_score': array([ 0.91421569,  0.91981793,  0.92209384,  0.92261905,  0.92261905,\n",
      "        0.92261905]), 'std_test_score': array([ 0.00928698,  0.00985897,  0.00892779,  0.00869283,  0.00869283,\n",
      "        0.00869283]), 'rank_test_score': array([6, 5, 4, 1, 1, 1], dtype=int32), 'split0_train_score': array([ 0.93345009,  0.93848511,  0.93914186,  0.93936077,  0.93936077,\n",
      "        0.93936077]), 'split1_train_score': array([ 0.93126095,  0.941331  ,  0.94176883,  0.94242557,  0.94242557,\n",
      "        0.94242557]), 'split2_train_score': array([ 0.92866521,  0.93435449,  0.93632385,  0.93654267,  0.93654267,\n",
      "        0.93654267]), 'split3_train_score': array([ 0.92758696,  0.93611901,  0.93611901,  0.93655655,  0.93633778,\n",
      "        0.93655655]), 'split4_train_score': array([ 0.92561803,  0.93436885,  0.93524393,  0.9354627 ,  0.9354627 ,\n",
      "        0.9354627 ]), 'mean_train_score': array([ 0.92931625,  0.93693169,  0.93771949,  0.93806965,  0.9380259 ,\n",
      "        0.93806965]), 'std_train_score': array([ 0.00275542,  0.00266974,  0.00241073,  0.00253213,  0.00255964,\n",
      "        0.00253213]), 'mean_fit_time': array([ 0.04354424,  0.05424099,  0.06348162,  0.07442293,  0.07036018,\n",
      "        0.07334023]), 'std_fit_time': array([ 0.00733366,  0.00080851,  0.0045204 ,  0.00664733,  0.00113938,\n",
      "        0.00550258]), 'mean_score_time': array([ 0.00059342,  0.00055494,  0.00062814,  0.000633  ,  0.0005465 ,\n",
      "        0.00057783]), 'std_score_time': array([  6.63674421e-05,   6.46759956e-05,   1.10029655e-04,\n",
      "         1.50915081e-04,   2.67030512e-05,   8.13545681e-05]), 'param_C': masked_array(data = [10 100 1000 10000 100000 1000000],\n",
      "             mask = [False False False False False False],\n",
      "       fill_value = ?)\n",
      ", 'params': ({'C': 10}, {'C': 100}, {'C': 1000}, {'C': 10000}, {'C': 100000}, {'C': 1000000})}\n",
      "LogisticRegression(C=10000, class_weight=None, dual=False, fit_intercept=True,\n",
      "          intercept_scaling=1, max_iter=100, multi_class='ovr', n_jobs=1,\n",
      "          penalty='l2', random_state=None, solver='liblinear', tol=0.0001,\n",
      "          verbose=0, warm_start=False)\n",
      "0.922619047619\n"
     ]
    }
   ],
   "source": [
    "# optimizing regularization parameter C which is Inverse of regularization strength; \n",
    "#must be a positive float. \n",
    "#Smaller values specify stronger regularization.\n",
    "Cs = [10, 100, 1000, 10000,100000, 1000000]\n",
    "from sklearn.model_selection import GridSearchCV\n",
    "\n",
    "params = {'C':Cs}\n",
    "gs= GridSearchCV(Logreg, param_grid= params, cv=5)\n",
    "gs.fit(X_trainlr, y_trainlr)\n",
    "print(gs.cv_results_)\n",
    "print(gs.best_estimator_)\n",
    "print(gs.best_score_)"
   ]
  },
  {
   "cell_type": "code",
   "execution_count": 174,
   "metadata": {
    "collapsed": false,
    "scrolled": true
   },
   "outputs": [
    {
     "name": "stdout",
     "output_type": "stream",
     "text": [
      "Accuracy of Tuned L2 Logistic Regression on Test data: 0.920693277311\n",
      "Accuracy of Tuned L2 Logistic Regression on Training data 0.9375\n"
     ]
    }
   ],
   "source": [
    "y_pred_train_gs= gs.predict(X_trainlr)\n",
    "y_pred_test_gs = gs.predict(X_testlr)\n",
    "\n",
    "print(\"Accuracy of Tuned L2 Logistic Regression on Test data:\",accuracy_score(y_pred_test_gs, y_testlr))\n",
    "\n",
    "print(\"Accuracy of Tuned L2 Logistic Regression on Training data\",accuracy_score(y_trainlr, y_pred_train_gs))"
   ]
  },
  {
   "cell_type": "markdown",
   "metadata": {},
   "source": [
    "#### We improved the accuracy of both training and test data by optimizing the regularisation parameter C. New more improved accuracy for training data is 0.9375 and test data is 0.920693277311.  \n",
    "#### By default scikit learn uses L2 regularisation model. Here we have optimized L2 regularization (Ridge) which forces the parameters to be relatively small, therefore the bigger the penalization, the smaller (and the more robust) the coefficients are. \n",
    "#### We can also try using L1 regularisation model to see if that works better. "
   ]
  },
  {
   "cell_type": "code",
   "execution_count": 175,
   "metadata": {
    "collapsed": false,
    "scrolled": true
   },
   "outputs": [
    {
     "name": "stdout",
     "output_type": "stream",
     "text": [
      "Accuracy of L1 Logistic Regression on Test data: 0.918067226891\n",
      "Accuracy of L1 Logistic Regression on Training data 0.926645658263\n"
     ]
    }
   ],
   "source": [
    "#instantiate the model with L1\n",
    "Logregl1= LogisticRegression(penalty='l1')\n",
    "\n",
    "# fit the model to training data\n",
    "Logregl1.fit(X_trainlr, y_trainlr)\n",
    "\n",
    "y_pred_test_l1 = Logregl1.predict(X_testlr)\n",
    "print(\"Accuracy of L1 Logistic Regression on Test data:\",accuracy_score(y_pred_test_l1, y_testlr))\n",
    "\n",
    "y_pred_train_l1 = Logregl1.predict(X_trainlr)\n",
    "print(\"Accuracy of L1 Logistic Regression on Training data\",accuracy_score(y_trainlr, y_pred_train_l1))"
   ]
  },
  {
   "cell_type": "markdown",
   "metadata": {},
   "source": [
    "#### Looks like using L1 penalty without tuning the hyperparameter, the model already performs better with Test accuracy of  0.918067226891 and training accuracy of 0.926820728291 as compared to untuned L2 regularised model which had Test data accuracy of 0.893382352941 and Training accuracy of 0.903711484594. \n",
    "#### Lets tune the hyperparameter for this model."
   ]
  },
  {
   "cell_type": "code",
   "execution_count": 171,
   "metadata": {
    "collapsed": false
   },
   "outputs": [
    {
     "name": "stdout",
     "output_type": "stream",
     "text": [
      "LogisticRegression(C=10000, class_weight=None, dual=False, fit_intercept=True,\n",
      "          intercept_scaling=1, max_iter=100, multi_class='ovr', n_jobs=1,\n",
      "          penalty='l1', random_state=None, solver='liblinear', tol=0.0001,\n",
      "          verbose=0, warm_start=False)\n",
      "0.922794117647\n"
     ]
    }
   ],
   "source": [
    "# tuning the hyperparameter C for l1 regularised model\n",
    "Cs = [0.001, 0.01, 0.1, 1, 10, 100, 1000, 10000]\n",
    "from sklearn.model_selection import GridSearchCV\n",
    "\n",
    "params = {'C':Cs}\n",
    "gsl1= GridSearchCV(Logregl1, param_grid= params, cv=5)\n",
    "gsl1.fit(X_trainlr, y_trainlr)\n",
    "print(gsl1.best_estimator_)\n",
    "print(gsl1.best_score_)"
   ]
  },
  {
   "cell_type": "code",
   "execution_count": 176,
   "metadata": {
    "collapsed": false,
    "scrolled": true
   },
   "outputs": [
    {
     "name": "stdout",
     "output_type": "stream",
     "text": [
      "Accuracy of Tuned L1 Logistic Regression on Test data: 0.921218487395\n",
      "Accuracy of Tuned L1 Logistic Regression on Training data 0.9375\n"
     ]
    }
   ],
   "source": [
    "y_pred_train_gsl1= gsl1.predict(X_trainlr)\n",
    "y_pred_test_gsl1 = gsl1.predict(X_testlr)\n",
    "\n",
    "print(\"Accuracy of Tuned L1 Logistic Regression on Test data:\",accuracy_score(y_pred_test_gsl1, y_testlr))\n",
    "\n",
    "print(\"Accuracy of Tuned L1 Logistic Regression on Training data\",accuracy_score(y_trainlr, y_pred_train_gsl1))"
   ]
  },
  {
   "cell_type": "markdown",
   "metadata": {},
   "source": [
    "#### After tuning the hyperparameter for L1 regularised model we found that accuracy of training data was exactly same as accuracy for training data with tuned L2 regularised model which is 0.9375. However, the model performs slightly better on Test data with tuned L1 Regularised model with accuracy of 0.921218487395 as compared to tuned L2 regularised model with test accuracy of 0.920693277311. "
   ]
  },
  {
   "cell_type": "code",
   "execution_count": 199,
   "metadata": {
    "collapsed": false
   },
   "outputs": [
    {
     "data": {
      "image/png": "[encoded data removed]",
      "text/plain": [
       "<matplotlib.figure.Figure at 0x12142eb70>"
      ]
     },
     "metadata": {},
     "output_type": "display_data"
    }
   ],
   "source": [
    "from sklearn.model_selection import learning_curve\n",
    "\n",
    "train_sizes, train_scores, test_scores = learning_curve(Logregl1, \n",
    "                                                        X_trainlr, \n",
    "                                                        y_trainlr,\n",
    "                                                        scoring='accuracy')\n",
    "train_mean = np.mean(train_scores, axis=1)\n",
    "test_mean = np.mean(test_scores, axis=1)\n",
    "plt.plot(train_sizes, train_mean, '--', color=\"b\",  label=\"Training score\")\n",
    "plt.plot(train_sizes, test_mean, color=\"r\", label=\"Test score\")\n",
    "plt.title(\"Learning Curve\")\n",
    "plt.xlabel(\"Training Set Size\"), plt.ylabel(\"Accuracy Score\"), plt.legend(loc=\"best\")\n",
    "plt.tight_layout()\n",
    "plt.show()"
   ]
  },
  {
   "cell_type": "code",
   "execution_count": 198,
   "metadata": {
    "collapsed": false,
    "scrolled": true
   },
   "outputs": [
    {
     "name": "stdout",
     "output_type": "stream",
     "text": [
      "Training Classification Report:\n",
      "             precision    recall  f1-score   support\n",
      "\n",
      "          0       0.93      0.96      0.95      1362\n",
      "          1       0.93      0.85      0.89      1687\n",
      "          2       0.94      0.98      0.96      2663\n",
      "\n",
      "avg / total       0.94      0.94      0.94      5712\n",
      "\n",
      "Test Classification Report:\n",
      "             precision    recall  f1-score   support\n",
      "\n",
      "          0       0.96      0.91      0.94       501\n",
      "          1       0.82      0.90      0.86       503\n",
      "          2       0.96      0.94      0.95       900\n",
      "\n",
      "avg / total       0.92      0.92      0.92      1904\n",
      "\n"
     ]
    }
   ],
   "source": [
    "from sklearn.metrics import classification_report\n",
    "print(\"Training Classification Report:\")\n",
    "print(classification_report(y_trainlr, y_pred_train_gsl1))\n",
    "\n",
    "print(\"Test Classification Report:\")\n",
    "print(classification_report(y_pred_test_gsl1, y_testlr))"
   ]
  },
  {
   "cell_type": "code",
   "execution_count": 181,
   "metadata": {
    "collapsed": false
   },
   "outputs": [
    {
     "data": {
      "image/png": "[encoded data removed]",
      "text/plain": [
       "<matplotlib.figure.Figure at 0x1201ee1d0>"
      ]
     },
     "metadata": {},
     "output_type": "display_data"
    }
   ],
   "source": [
    "# Another way to plot learning curve\n",
    "from mlxtend.plotting import plot_learning_curves\n",
    "plot_learning_curves(X_trainlr, y_trainlr, X_testlr, y_testlr, Logregl1, scoring= 'mean_squared_error')\n",
    "plt.show()"
   ]
  },
  {
   "cell_type": "code",
   "execution_count": null,
   "metadata": {
    "collapsed": true
   },
   "outputs": [],
   "source": []
  }
 ],
 "metadata": {
  "kernelspec": {
   "display_name": "Python 3",
   "language": "python",
   "name": "python3"
  },
  "language_info": {
   "codemirror_mode": {
    "name": "ipython",
    "version": 3
   },
   "file_extension": ".py",
   "mimetype": "text/x-python",
   "name": "python",
   "nbconvert_exporter": "python",
   "pygments_lexer": "ipython3",
   "version": "3.6.0"
  }
 },
 "nbformat": 4,
 "nbformat_minor": 2
}
