{
 "cells": [
  {
   "cell_type": "code",
   "execution_count": 196,
   "metadata": {
    "collapsed": false,
    "scrolled": true
   },
   "outputs": [
    {
     "name": "stdout",
     "output_type": "stream",
     "text": [
      "                                                     Notes State  State Code  \\\n",
      "1048375  data set. Death rates may differ slightly from...   NaN         NaN   \n",
      "1048376  6. For the 2005 year, the Census Bureau estima...   NaN         NaN   \n",
      "1048377  Texas due to Hurricanes Katrina and Rita. CDC ...   NaN         NaN   \n",
      "1048378  these states, nor are these counts included in...   NaN         NaN   \n",
      "1048379  population. However, the USCS web site does in...   NaN         NaN   \n",
      "\n",
      "        Cancer Sites Cancer Sites Code  Year  Year Code Age Group  \\\n",
      "1048375          NaN               NaN   NaN        NaN       NaN   \n",
      "1048376          NaN               NaN   NaN        NaN       NaN   \n",
      "1048377          NaN               NaN   NaN        NaN       NaN   \n",
      "1048378          NaN               NaN   NaN        NaN       NaN   \n",
      "1048379          NaN               NaN   NaN        NaN       NaN   \n",
      "\n",
      "        Age Group Code Race Race Code Deaths Population Crude Rate  \n",
      "1048375            NaN  NaN       NaN    NaN        NaN        NaN  \n",
      "1048376            NaN  NaN       NaN    NaN        NaN        NaN  \n",
      "1048377            NaN  NaN       NaN    NaN        NaN        NaN  \n",
      "1048378            NaN  NaN       NaN    NaN        NaN        NaN  \n",
      "1048379            NaN  NaN       NaN    NaN        NaN        NaN  \n",
      "                                                     Notes State  State Code  \\\n",
      "1048375  data set. Death rates may differ slightly from...   NaN         NaN   \n",
      "1048376  6. For the 2005 year, the Census Bureau estima...   NaN         NaN   \n",
      "1048377  Texas due to Hurricanes Katrina and Rita. CDC ...   NaN         NaN   \n",
      "1048378  these states, nor are these counts included in...   NaN         NaN   \n",
      "1048379  population. However, the USCS web site does in...   NaN         NaN   \n",
      "\n",
      "        Cancer Sites Cancer Sites Code  Year  Year Code Age Group  \\\n",
      "1048375          NaN               NaN   NaN        NaN       NaN   \n",
      "1048376          NaN               NaN   NaN        NaN       NaN   \n",
      "1048377          NaN               NaN   NaN        NaN       NaN   \n",
      "1048378          NaN               NaN   NaN        NaN       NaN   \n",
      "1048379          NaN               NaN   NaN        NaN       NaN   \n",
      "\n",
      "        Age Group Code Race Race Code Deaths Population Crude Rate  \n",
      "1048375            NaN  NaN       NaN    NaN        NaN        NaN  \n",
      "1048376            NaN  NaN       NaN    NaN        NaN        NaN  \n",
      "1048377            NaN  NaN       NaN    NaN        NaN        NaN  \n",
      "1048378            NaN  NaN       NaN    NaN        NaN        NaN  \n",
      "1048379            NaN  NaN       NaN    NaN        NaN        NaN  \n",
      "<class 'pandas.core.frame.DataFrame'>\n",
      "RangeIndex: 2096760 entries, 0 to 2096759\n",
      "Data columns (total 15 columns):\n",
      "Notes                object\n",
      "State                object\n",
      "State Code           float64\n",
      "Cancer Sites         object\n",
      "Cancer Sites Code    object\n",
      "Year                 float64\n",
      "Year Code            float64\n",
      "Age Group            object\n",
      "Age Group Code       object\n",
      "Race                 object\n",
      "Race Code            object\n",
      "Deaths               object\n",
      "Population           object\n",
      "Crude Rate           object\n",
      "Sex                  object\n",
      "dtypes: float64(3), object(12)\n",
      "memory usage: 240.0+ MB\n",
      "<class 'pandas.core.frame.DataFrame'>\n",
      "Int64Index: 2093040 entries, 0 to 2096697\n",
      "Data columns (total 9 columns):\n",
      "State           object\n",
      "Cancer Sites    object\n",
      "Year            float64\n",
      "Age Group       object\n",
      "Race            object\n",
      "Deaths          object\n",
      "Population      object\n",
      "Crude Rate      object\n",
      "Sex             object\n",
      "dtypes: float64(1), object(8)\n",
      "memory usage: 159.7+ MB\n"
     ]
    },
    {
     "data": {
      "text/plain": [
       "0             1562997\n",
       "Suppressed     325534\n",
       "16               3359\n",
       "17               2882\n",
       "18               2879\n",
       "19               2627\n",
       "20               2487\n",
       "21               2285\n",
       "22               2202\n",
       "23               2100\n",
       "24               1908\n",
       "25               1896\n",
       "26               1694\n",
       "27               1692\n",
       "28               1555\n",
       "29               1526\n",
       "30               1477\n",
       "31               1376\n",
       "32               1335\n",
       "33               1334\n",
       "34               1289\n",
       "35               1191\n",
       "39               1084\n",
       "37               1083\n",
       "38               1066\n",
       "36               1046\n",
       "40               1002\n",
       "41                938\n",
       "42                924\n",
       "44                898\n",
       "               ...   \n",
       "945                 1\n",
       "1021                1\n",
       "694                 1\n",
       "1026                1\n",
       "989                 1\n",
       "855                 1\n",
       "1038                1\n",
       "831                 1\n",
       "1069                1\n",
       "1350                1\n",
       "1007                1\n",
       "1209                1\n",
       "909                 1\n",
       "744                 1\n",
       "1067                1\n",
       "770                 1\n",
       "1138                1\n",
       "925                 1\n",
       "1160                1\n",
       "772                 1\n",
       "849                 1\n",
       "1119                1\n",
       "721                 1\n",
       "754                 1\n",
       "963                 1\n",
       "727                 1\n",
       "659                 1\n",
       "758                 1\n",
       "880                 1\n",
       "776                 1\n",
       "Name: Deaths, dtype: int64"
      ]
     },
     "execution_count": 196,
     "metadata": {},
     "output_type": "execute_result"
    }
   ],
   "source": [
    "import pandas as pd\n",
    "import os\n",
    "\n",
    "#Opening and concatening the files for females and males folders\n",
    "female = pd.DataFrame()\n",
    "indir = '/Users/TarjaniAgrawal/Desktop/Springboard/Capstone I_data/Female data'\n",
    "for root, dirs, filenames in os.walk(indir):\n",
    "    for f in filenames:\n",
    "        x = pd.DataFrame.from_csv(indir + '/' + f, index_col= None, sep='\\t')\n",
    "        female = pd.concat([female, x], ignore_index=True)\n",
    "    print(female.tail())\n",
    "male = pd.DataFrame()\n",
    "indir = '/Users/TarjaniAgrawal/Desktop/Springboard/Capstone I_data/Male data'\n",
    "for root, dirs, filenames in os.walk(indir):\n",
    "    for f in filenames:\n",
    "        x = pd.DataFrame.from_csv(indir + '/' + f, index_col= None, sep='\\t')\n",
    "        male = pd.concat([male, x], ignore_index=True)\n",
    "    print(male.tail())\n",
    "# Adding Sex column to female and male dataframes\n",
    "import numpy as np\n",
    "F = np.array('Female')\n",
    "female['Sex']= F\n",
    "M = np.array('Male')\n",
    "male['Sex']= M\n",
    "#Concatening male and female columns\n",
    "df = pd.concat([female, male], ignore_index=True)\n",
    "df.info()\n",
    "#Deleting NOTES column and CODES columns\n",
    "df = df.drop(['Notes', 'State Code', 'Cancer Sites Code', 'Year Code', 'Age Group Code', 'Race Code'], axis=1)\n",
    "df.head()\n",
    "#Deleting NaN rows\n",
    "df = df[df.State.notnull()]  \n",
    "df.info()\n",
    "#Checking different types of values in Deaths columns\n",
    "df['Deaths'].value_counts()\n",
    "# Dropping rows with Deaths as Not applicable which mainly has rows for cancer site as female sex organ for males and vice versa\n",
    "df = df[df['Deaths'] != 'Not Applicable']\n",
    "df['Deaths'].value_counts()\n",
    "\n",
    "# Looking at the different types of values in other columns in case they have any Nan\n",
    "cols = ['State', 'Cancer Sites', 'Year', 'Age Group', 'Race', 'Deaths', 'Population', 'Crude Rate', 'Sex']\n",
    "for col in cols:\n",
    "    x = df[col].value_counts()\n",
    "    print(x)\n",
    "\n",
    "# Dropping the rows with Crude Rate or Population is equal to Not Applicable \n",
    "df = df[(df['Crude Rate'] != 'Not Applicable') | (df['Population'] != 'Not Applicable')]\n",
    "\n",
    "\n",
    "\n"
   ]
  },
  {
   "cell_type": "code",
   "execution_count": 206,
   "metadata": {
    "collapsed": false,
    "scrolled": true
   },
   "outputs": [
    {
     "name": "stdout",
     "output_type": "stream",
     "text": [
      "<class 'pandas.core.frame.DataFrame'>\n",
      "Int64Index: 1929971 entries, 0 to 2096697\n",
      "Data columns (total 9 columns):\n",
      "State           object\n",
      "Cancer Sites    object\n",
      "Year            float64\n",
      "Age Group       object\n",
      "Race            object\n",
      "Deaths          object\n",
      "Population      object\n",
      "Crude Rate      object\n",
      "Sex             object\n",
      "dtypes: float64(1), object(8)\n",
      "memory usage: 147.2+ MB\n"
     ]
    }
   ],
   "source": [
    "df.info()"
   ]
  },
  {
   "cell_type": "code",
   "execution_count": 212,
   "metadata": {
    "collapsed": false
   },
   "outputs": [
    {
     "data": {
      "text/plain": [
       "State           1929971\n",
       "Cancer Sites    1929971\n",
       "Year            1929971\n",
       "Age Group       1929971\n",
       "Race            1929971\n",
       "Deaths          1929971\n",
       "Population      1929971\n",
       "Crude Rate      1929971\n",
       "Sex             1929971\n",
       "dtype: int64"
      ]
     },
     "execution_count": 212,
     "metadata": {},
     "output_type": "execute_result"
    }
   ],
   "source": [
    "df.count()"
   ]
  },
  {
   "cell_type": "code",
   "execution_count": null,
   "metadata": {
    "collapsed": false,
    "scrolled": false
   },
   "outputs": [],
   "source": [
    "\n"
   ]
  },
  {
   "cell_type": "code",
   "execution_count": null,
   "metadata": {
    "collapsed": false
   },
   "outputs": [],
   "source": [
    "      "
   ]
  },
  {
   "cell_type": "code",
   "execution_count": null,
   "metadata": {
    "collapsed": false
   },
   "outputs": [],
   "source": []
  },
  {
   "cell_type": "code",
   "execution_count": null,
   "metadata": {
    "collapsed": false,
    "scrolled": true
   },
   "outputs": [],
   "source": []
  },
  {
   "cell_type": "code",
   "execution_count": null,
   "metadata": {
    "collapsed": false,
    "scrolled": true
   },
   "outputs": [],
   "source": [
    "\n"
   ]
  },
  {
   "cell_type": "code",
   "execution_count": null,
   "metadata": {
    "collapsed": false
   },
   "outputs": [],
   "source": [
    "\n"
   ]
  },
  {
   "cell_type": "code",
   "execution_count": null,
   "metadata": {
    "collapsed": false,
    "scrolled": false
   },
   "outputs": [],
   "source": [
    "\n",
    "\n",
    "\n"
   ]
  },
  {
   "cell_type": "code",
   "execution_count": null,
   "metadata": {
    "collapsed": false
   },
   "outputs": [],
   "source": []
  },
  {
   "cell_type": "code",
   "execution_count": null,
   "metadata": {
    "collapsed": true
   },
   "outputs": [],
   "source": []
  },
  {
   "cell_type": "code",
   "execution_count": null,
   "metadata": {
    "collapsed": true
   },
   "outputs": [],
   "source": []
  },
  {
   "cell_type": "code",
   "execution_count": null,
   "metadata": {
    "collapsed": true
   },
   "outputs": [],
   "source": []
  },
  {
   "cell_type": "code",
   "execution_count": null,
   "metadata": {
    "collapsed": true
   },
   "outputs": [],
   "source": []
  },
  {
   "cell_type": "code",
   "execution_count": null,
   "metadata": {
    "collapsed": true
   },
   "outputs": [],
   "source": []
  },
  {
   "cell_type": "code",
   "execution_count": null,
   "metadata": {
    "collapsed": true
   },
   "outputs": [],
   "source": []
  },
  {
   "cell_type": "code",
   "execution_count": null,
   "metadata": {
    "collapsed": true
   },
   "outputs": [],
   "source": []
  },
  {
   "cell_type": "code",
   "execution_count": null,
   "metadata": {
    "collapsed": true
   },
   "outputs": [],
   "source": []
  }
 ],
 "metadata": {
  "kernelspec": {
   "display_name": "Python 3",
   "language": "python",
   "name": "python3"
  },
  "language_info": {
   "codemirror_mode": {
    "name": "ipython",
    "version": 3
   },
   "file_extension": ".py",
   "mimetype": "text/x-python",
   "name": "python",
   "nbconvert_exporter": "python",
   "pygments_lexer": "ipython3",
   "version": "3.6.0"
  }
 },
 "nbformat": 4,
 "nbformat_minor": 2
}
